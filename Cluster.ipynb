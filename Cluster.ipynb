{
 "cells": [
  {
   "cell_type": "code",
   "execution_count": 68,
   "metadata": {
    "collapsed": true
   },
   "outputs": [],
   "source": [
    "import pandas as pd\n",
    "import numpy as np\n",
    "from sklearn.preprocessing import OneHotEncoder, Normalizer, LabelEncoder, MinMaxScaler\n",
    "from operator import add\n",
    "from sklearn.neighbors import NearestNeighbors, KDTree"
   ]
  },
  {
   "cell_type": "code",
   "execution_count": 6,
   "metadata": {
    "collapsed": true
   },
   "outputs": [],
   "source": [
    "main_df = pd.read_csv(\"final_mock_data.csv\")"
   ]
  },
  {
   "cell_type": "code",
   "execution_count": 7,
   "metadata": {
    "collapsed": false
   },
   "outputs": [
    {
     "data": {
      "text/html": [
       "<div>\n",
       "<table border=\"1\" class=\"dataframe\">\n",
       "  <thead>\n",
       "    <tr style=\"text-align: right;\">\n",
       "      <th></th>\n",
       "      <th>Name</th>\n",
       "      <th>Address</th>\n",
       "      <th>Diagnosis</th>\n",
       "      <th>Symptom</th>\n",
       "    </tr>\n",
       "  </thead>\n",
       "  <tbody>\n",
       "    <tr>\n",
       "      <th>0</th>\n",
       "      <td>Dr Robert Caldwell</td>\n",
       "      <td>North Mark</td>\n",
       "      <td>Aphakia</td>\n",
       "      <td>Visual problems</td>\n",
       "    </tr>\n",
       "    <tr>\n",
       "      <th>1</th>\n",
       "      <td>Dr Kathy Johnson</td>\n",
       "      <td>Port Rachel</td>\n",
       "      <td>Retinitis pigmentosa</td>\n",
       "      <td>Visual problems</td>\n",
       "    </tr>\n",
       "    <tr>\n",
       "      <th>2</th>\n",
       "      <td>Dr Michael Davis</td>\n",
       "      <td>Port Rachel</td>\n",
       "      <td>Coronary artery anomaly heart artery malformation</td>\n",
       "      <td>Heart pulsations and palpitations,Inconsolable...</td>\n",
       "    </tr>\n",
       "    <tr>\n",
       "      <th>3</th>\n",
       "      <td>Dr Carol Roberts</td>\n",
       "      <td>Lake Kristi</td>\n",
       "      <td>Adenoiditis (a type of lymph node inflammation)</td>\n",
       "      <td>Snoring</td>\n",
       "    </tr>\n",
       "    <tr>\n",
       "      <th>4</th>\n",
       "      <td>Dr Michael Davis</td>\n",
       "      <td>Daltonchester</td>\n",
       "      <td>Ankylosing spondylitis  (severe spine arthritis)</td>\n",
       "      <td>Back ache or pain,Neck ache or pain,Low back a...</td>\n",
       "    </tr>\n",
       "  </tbody>\n",
       "</table>\n",
       "</div>"
      ],
      "text/plain": [
       "                 Name        Address  \\\n",
       "0  Dr Robert Caldwell     North Mark   \n",
       "1    Dr Kathy Johnson    Port Rachel   \n",
       "2    Dr Michael Davis    Port Rachel   \n",
       "3    Dr Carol Roberts    Lake Kristi   \n",
       "4    Dr Michael Davis  Daltonchester   \n",
       "\n",
       "                                           Diagnosis  \\\n",
       "0                                            Aphakia   \n",
       "1                               Retinitis pigmentosa   \n",
       "2  Coronary artery anomaly heart artery malformation   \n",
       "3    Adenoiditis (a type of lymph node inflammation)   \n",
       "4   Ankylosing spondylitis  (severe spine arthritis)   \n",
       "\n",
       "                                             Symptom  \n",
       "0                                    Visual problems  \n",
       "1                                    Visual problems  \n",
       "2  Heart pulsations and palpitations,Inconsolable...  \n",
       "3                                            Snoring  \n",
       "4  Back ache or pain,Neck ache or pain,Low back a...  "
      ]
     },
     "execution_count": 7,
     "metadata": {},
     "output_type": "execute_result"
    }
   ],
   "source": [
    "main_df.head()"
   ]
  },
  {
   "cell_type": "code",
   "execution_count": 8,
   "metadata": {
    "collapsed": false
   },
   "outputs": [
    {
     "data": {
      "text/plain": [
       "Name         89\n",
       "Address      89\n",
       "Diagnosis    89\n",
       "Symptom      89\n",
       "dtype: int64"
      ]
     },
     "execution_count": 8,
     "metadata": {},
     "output_type": "execute_result"
    }
   ],
   "source": [
    "main_df.dropna().count()"
   ]
  },
  {
   "cell_type": "code",
   "execution_count": 9,
   "metadata": {
    "collapsed": false
   },
   "outputs": [],
   "source": [
    "main_df  = main_df.dropna()"
   ]
  },
  {
   "cell_type": "code",
   "execution_count": 10,
   "metadata": {
    "collapsed": true
   },
   "outputs": [],
   "source": [
    "sym_list = open(\"final_sym.txt\", \"r\").read().split('\\n')"
   ]
  },
  {
   "cell_type": "code",
   "execution_count": 11,
   "metadata": {
    "collapsed": false
   },
   "outputs": [],
   "source": [
    "sym_list = sym_list[:-1]\n",
    "dimensions = len(sym_list)"
   ]
  },
  {
   "cell_type": "code",
   "execution_count": 12,
   "metadata": {
    "collapsed": false
   },
   "outputs": [],
   "source": [
    "sym_list[-1] = 'Weight loss'"
   ]
  },
  {
   "cell_type": "code",
   "execution_count": 13,
   "metadata": {
    "collapsed": true
   },
   "outputs": [],
   "source": [
    "similarilty_index = pd.DataFrame(columns=[\"Name\"]+sym_list)"
   ]
  },
  {
   "cell_type": "code",
   "execution_count": 14,
   "metadata": {
    "collapsed": false
   },
   "outputs": [
    {
     "data": {
      "text/plain": [
       "131"
      ]
     },
     "execution_count": 14,
     "metadata": {},
     "output_type": "execute_result"
    }
   ],
   "source": [
    "dimensions"
   ]
  },
  {
   "cell_type": "code",
   "execution_count": 15,
   "metadata": {
    "collapsed": false
   },
   "outputs": [
    {
     "data": {
      "text/html": [
       "<div>\n",
       "<table border=\"1\" class=\"dataframe\">\n",
       "  <thead>\n",
       "    <tr style=\"text-align: right;\">\n",
       "      <th></th>\n",
       "      <th>Name</th>\n",
       "      <th>Abdominal swelling (Stomach swelling)</th>\n",
       "      <th>Alcohol abuse</th>\n",
       "      <th>Amenorrhea (No menstruation)</th>\n",
       "      <th>Anxiety (Nervousness)</th>\n",
       "      <th>Arm ache or pain</th>\n",
       "      <th>Arm itching</th>\n",
       "      <th>Arm numbness (paresthesias)</th>\n",
       "      <th>Arm redness</th>\n",
       "      <th>Arm swelling</th>\n",
       "      <th>...</th>\n",
       "      <th>Upper abdominal pain</th>\n",
       "      <th>Urinary retention (Inability to urinate)</th>\n",
       "      <th>Vaginal bleeding</th>\n",
       "      <th>Vaginal pain</th>\n",
       "      <th>Vertigo (Room spinning)</th>\n",
       "      <th>Visual flashing lights</th>\n",
       "      <th>Visual problems</th>\n",
       "      <th>Vomiting</th>\n",
       "      <th>Vomiting coffee ground material</th>\n",
       "      <th>Weight loss</th>\n",
       "    </tr>\n",
       "  </thead>\n",
       "  <tbody>\n",
       "  </tbody>\n",
       "</table>\n",
       "<p>0 rows × 132 columns</p>\n",
       "</div>"
      ],
      "text/plain": [
       "Empty DataFrame\n",
       "Columns: [Name, Abdominal swelling (Stomach swelling), Alcohol abuse, Amenorrhea (No menstruation), Anxiety (Nervousness), Arm ache or pain, Arm itching, Arm numbness (paresthesias), Arm redness, Arm swelling, Armpit pain, Back ache or pain, Bleeding gums, Bleeding tendency, Blister (Pocket of fluid), Blood in urine (Hematuria), Blood in vomit, Blurry vision, Change in behavior, Chest pain, Chest pressure, Chills, Choking, Confusion, Confusion and headache, Cough, Delusions or hallucinations, Depressed, Dizziness, Double vision (Diplopia), Ear pressure, Ear swelling, Eye floaters, Eye pain (Irritation), Eye redness, Eye swelling, Face numbness (paresthesias), Facial droop (weakness), Facial pain, Failure to thrive, Fainting, Fever, Fever in the returning traveler, Fever of unknown origin, Flank pain, Foot itching, Foot numbness (paresthesias), Foot redness, Frequent urination (Frequency), General weakness, Hand itching, Hand numbness (paresthesias), Hand redness, Headache, Headache and weakness, Heart pulsations and palpitations, Hemoptysis (Coughing blood), Hives, Hot flashes, Hypothermia (Low temperature), Impotence, Inconsolable baby, Incontinence (leaking urine), Increased facial hair, Infertility (Female), Insomnia (Trouble sleeping), Itchy rash (Pruritic rash), Jaundice (Yellowing skin), Jaw pain, Kidney pain (Flank pain), Learning difficulties, Leg ache or pain, Leg numbness (paresthesias), Lethargy (Sluggishness), Lip swelling, Loss of balance, Low back ache or pain, Low heart rate, Lower abdominal pain, Mouth pain, Mouth swelling, Mouth ulcers, Muscle pain, Muscle spasm, Nasal bleeding, Nasal congestion, Neck ache or pain, Neck swelling, Nipple discharge, Numbness, Obesity, Overdose, Pain in the ear, Pain or soreness of breast, Painful gums, Painful rash, Poisoning, Pustule (Collection of pus), Rash, Ringing in ears (Tinnitus), ...]\n",
       "Index: []\n",
       "\n",
       "[0 rows x 132 columns]"
      ]
     },
     "execution_count": 15,
     "metadata": {},
     "output_type": "execute_result"
    }
   ],
   "source": [
    "similarilty_index.head()\n",
    "# similarilty_index.set_index('Name')"
   ]
  },
  {
   "cell_type": "code",
   "execution_count": 16,
   "metadata": {
    "collapsed": false
   },
   "outputs": [],
   "source": [
    "main_index = similarilty_index.columns"
   ]
  },
  {
   "cell_type": "code",
   "execution_count": 17,
   "metadata": {
    "collapsed": false
   },
   "outputs": [
    {
     "data": {
      "text/plain": [
       "Index(['Name', 'Abdominal swelling (Stomach swelling)', 'Alcohol abuse',\n",
       "       'Amenorrhea (No menstruation)', 'Anxiety (Nervousness)',\n",
       "       'Arm ache or pain', 'Arm itching', 'Arm numbness (paresthesias)',\n",
       "       'Arm redness', 'Arm swelling',\n",
       "       ...\n",
       "       'Upper abdominal pain', 'Urinary retention (Inability to urinate)',\n",
       "       'Vaginal bleeding', 'Vaginal pain', 'Vertigo (Room spinning)',\n",
       "       'Visual flashing lights', 'Visual problems', 'Vomiting',\n",
       "       'Vomiting coffee ground material', 'Weight loss'],\n",
       "      dtype='object', length=132)"
      ]
     },
     "execution_count": 17,
     "metadata": {},
     "output_type": "execute_result"
    }
   ],
   "source": [
    "main_index"
   ]
  },
  {
   "cell_type": "code",
   "execution_count": 18,
   "metadata": {
    "collapsed": false
   },
   "outputs": [
    {
     "data": {
      "text/plain": [
       "LabelEncoder()"
      ]
     },
     "execution_count": 18,
     "metadata": {},
     "output_type": "execute_result"
    }
   ],
   "source": [
    "ohe = OneHotEncoder()\n",
    "lbl = LabelEncoder()\n",
    "lbl.fit(sym_list)"
   ]
  },
  {
   "cell_type": "code",
   "execution_count": 19,
   "metadata": {
    "collapsed": false
   },
   "outputs": [
    {
     "data": {
      "text/plain": [
       "131"
      ]
     },
     "execution_count": 19,
     "metadata": {},
     "output_type": "execute_result"
    }
   ],
   "source": [
    "len(lbl.classes_)"
   ]
  },
  {
   "cell_type": "code",
   "execution_count": 20,
   "metadata": {
    "collapsed": false
   },
   "outputs": [],
   "source": [
    "temp_for_ohe = lbl.transform(sym_list).reshape(-1, 1)"
   ]
  },
  {
   "cell_type": "code",
   "execution_count": 21,
   "metadata": {
    "collapsed": false
   },
   "outputs": [
    {
     "data": {
      "text/plain": [
       "OneHotEncoder(categorical_features='all', dtype=<class 'numpy.float64'>,\n",
       "       handle_unknown='error', n_values='auto', sparse=True)"
      ]
     },
     "execution_count": 21,
     "metadata": {},
     "output_type": "execute_result"
    }
   ],
   "source": [
    "ohe.fit(temp_for_ohe)"
   ]
  },
  {
   "cell_type": "code",
   "execution_count": 22,
   "metadata": {
    "collapsed": false
   },
   "outputs": [],
   "source": [
    "t1 = lbl.transform(['Vomiting'])"
   ]
  },
  {
   "cell_type": "code",
   "execution_count": 23,
   "metadata": {
    "collapsed": false
   },
   "outputs": [],
   "source": [
    "t2 = ohe.transform([t1]).toarray()"
   ]
  },
  {
   "cell_type": "code",
   "execution_count": 24,
   "metadata": {
    "collapsed": false
   },
   "outputs": [],
   "source": [
    "def sym_to_index(sym):\n",
    "    if(sym == ' unexplained'): return [0] * dimensions\n",
    "    t1 = lbl.transform([sym])\n",
    "    return ohe.transform([t1]).toarray()[0]"
   ]
  },
  {
   "cell_type": "code",
   "execution_count": 25,
   "metadata": {
    "collapsed": false
   },
   "outputs": [
    {
     "data": {
      "text/plain": [
       "131"
      ]
     },
     "execution_count": 25,
     "metadata": {},
     "output_type": "execute_result"
    }
   ],
   "source": [
    "len(sym_to_index('Weight loss'))"
   ]
  },
  {
   "cell_type": "code",
   "execution_count": 26,
   "metadata": {
    "collapsed": false
   },
   "outputs": [
    {
     "data": {
      "text/plain": [
       "array(['asS', '0', '0', '0', '0', '0', '0', '0', '0', '0', '0', '0', '0',\n",
       "       '0', '0', '0', '0', '0', '0', '0', '0', '0', '0', '0', '0', '0',\n",
       "       '0', '0', '0', '0', '0', '0', '0', '0', '0', '0', '0', '0', '0',\n",
       "       '0', '0', '0', '0', '0', '0', '0', '0', '0', '0', '0', '0', '0',\n",
       "       '0', '0', '0', '0', '0', '0', '0', '0', '0', '0', '0', '0', '0',\n",
       "       '0', '0', '0', '0', '0', '0', '0', '0', '0', '0', '0', '0', '0',\n",
       "       '0', '0', '0', '0', '0', '0', '0', '0', '0', '0', '0', '0', '0',\n",
       "       '0', '0', '0', '0', '0', '0', '0', '0', '0', '0', '0', '0', '0',\n",
       "       '0', '0', '0', '0', '0', '0', '0', '0', '0', '0', '0', '0', '0',\n",
       "       '0', '0', '0', '0', '0', '0', '0', '0', '0', '0', '0', '0', '0',\n",
       "       '0', '0'],\n",
       "      dtype='<U3')"
      ]
     },
     "execution_count": 26,
     "metadata": {},
     "output_type": "execute_result"
    }
   ],
   "source": [
    "np.array(['asS'] + [0] * dimensions).transpose()"
   ]
  },
  {
   "cell_type": "code",
   "execution_count": 27,
   "metadata": {
    "collapsed": false
   },
   "outputs": [],
   "source": [
    "df = pd.DataFrame(np.array(['asS'] + [0] * dimensions), index=main_index).transpose()"
   ]
  },
  {
   "cell_type": "code",
   "execution_count": 28,
   "metadata": {
    "collapsed": false
   },
   "outputs": [
    {
     "name": "stdout",
     "output_type": "stream",
     "text": [
      "(1, 132)\n"
     ]
    }
   ],
   "source": [
    "print(df.shape)"
   ]
  },
  {
   "cell_type": "code",
   "execution_count": 29,
   "metadata": {
    "collapsed": false
   },
   "outputs": [
    {
     "data": {
      "text/html": [
       "<div>\n",
       "<table border=\"1\" class=\"dataframe\">\n",
       "  <thead>\n",
       "    <tr style=\"text-align: right;\">\n",
       "      <th></th>\n",
       "      <th>Name</th>\n",
       "      <th>Abdominal swelling (Stomach swelling)</th>\n",
       "      <th>Alcohol abuse</th>\n",
       "      <th>Amenorrhea (No menstruation)</th>\n",
       "      <th>Anxiety (Nervousness)</th>\n",
       "      <th>Arm ache or pain</th>\n",
       "      <th>Arm itching</th>\n",
       "      <th>Arm numbness (paresthesias)</th>\n",
       "      <th>Arm redness</th>\n",
       "      <th>Arm swelling</th>\n",
       "      <th>...</th>\n",
       "      <th>Upper abdominal pain</th>\n",
       "      <th>Urinary retention (Inability to urinate)</th>\n",
       "      <th>Vaginal bleeding</th>\n",
       "      <th>Vaginal pain</th>\n",
       "      <th>Vertigo (Room spinning)</th>\n",
       "      <th>Visual flashing lights</th>\n",
       "      <th>Visual problems</th>\n",
       "      <th>Vomiting</th>\n",
       "      <th>Vomiting coffee ground material</th>\n",
       "      <th>Weight loss</th>\n",
       "    </tr>\n",
       "  </thead>\n",
       "  <tbody>\n",
       "    <tr>\n",
       "      <th>0</th>\n",
       "      <td>asS</td>\n",
       "      <td>0</td>\n",
       "      <td>0</td>\n",
       "      <td>0</td>\n",
       "      <td>0</td>\n",
       "      <td>0</td>\n",
       "      <td>0</td>\n",
       "      <td>0</td>\n",
       "      <td>0</td>\n",
       "      <td>0</td>\n",
       "      <td>...</td>\n",
       "      <td>0</td>\n",
       "      <td>0</td>\n",
       "      <td>0</td>\n",
       "      <td>0</td>\n",
       "      <td>0</td>\n",
       "      <td>0</td>\n",
       "      <td>0</td>\n",
       "      <td>0</td>\n",
       "      <td>0</td>\n",
       "      <td>0</td>\n",
       "    </tr>\n",
       "  </tbody>\n",
       "</table>\n",
       "<p>1 rows × 132 columns</p>\n",
       "</div>"
      ],
      "text/plain": [
       "  Name Abdominal swelling (Stomach swelling) Alcohol abuse  \\\n",
       "0  asS                                     0             0   \n",
       "\n",
       "  Amenorrhea (No menstruation) Anxiety (Nervousness) Arm ache or pain  \\\n",
       "0                            0                     0                0   \n",
       "\n",
       "  Arm itching Arm numbness (paresthesias) Arm redness Arm swelling  \\\n",
       "0           0                           0           0            0   \n",
       "\n",
       "      ...     Upper abdominal pain Urinary retention (Inability to urinate)  \\\n",
       "0     ...                        0                                        0   \n",
       "\n",
       "  Vaginal bleeding Vaginal pain Vertigo (Room spinning)  \\\n",
       "0                0            0                       0   \n",
       "\n",
       "  Visual flashing lights Visual problems Vomiting  \\\n",
       "0                      0               0        0   \n",
       "\n",
       "  Vomiting coffee ground material Weight loss  \n",
       "0                               0           0  \n",
       "\n",
       "[1 rows x 132 columns]"
      ]
     },
     "execution_count": 29,
     "metadata": {},
     "output_type": "execute_result"
    }
   ],
   "source": [
    "df"
   ]
  },
  {
   "cell_type": "code",
   "execution_count": 30,
   "metadata": {
    "collapsed": true
   },
   "outputs": [],
   "source": [
    "similarilty_index = df"
   ]
  },
  {
   "cell_type": "code",
   "execution_count": 31,
   "metadata": {
    "collapsed": false
   },
   "outputs": [
    {
     "data": {
      "text/html": [
       "<div>\n",
       "<table border=\"1\" class=\"dataframe\">\n",
       "  <thead>\n",
       "    <tr style=\"text-align: right;\">\n",
       "      <th></th>\n",
       "      <th>Name</th>\n",
       "      <th>Abdominal swelling (Stomach swelling)</th>\n",
       "      <th>Alcohol abuse</th>\n",
       "      <th>Amenorrhea (No menstruation)</th>\n",
       "      <th>Anxiety (Nervousness)</th>\n",
       "      <th>Arm ache or pain</th>\n",
       "      <th>Arm itching</th>\n",
       "      <th>Arm numbness (paresthesias)</th>\n",
       "      <th>Arm redness</th>\n",
       "      <th>Arm swelling</th>\n",
       "      <th>...</th>\n",
       "      <th>Upper abdominal pain</th>\n",
       "      <th>Urinary retention (Inability to urinate)</th>\n",
       "      <th>Vaginal bleeding</th>\n",
       "      <th>Vaginal pain</th>\n",
       "      <th>Vertigo (Room spinning)</th>\n",
       "      <th>Visual flashing lights</th>\n",
       "      <th>Visual problems</th>\n",
       "      <th>Vomiting</th>\n",
       "      <th>Vomiting coffee ground material</th>\n",
       "      <th>Weight loss</th>\n",
       "    </tr>\n",
       "  </thead>\n",
       "  <tbody>\n",
       "    <tr>\n",
       "      <th>0</th>\n",
       "      <td>asS</td>\n",
       "      <td>0</td>\n",
       "      <td>0</td>\n",
       "      <td>0</td>\n",
       "      <td>0</td>\n",
       "      <td>0</td>\n",
       "      <td>0</td>\n",
       "      <td>0</td>\n",
       "      <td>0</td>\n",
       "      <td>0</td>\n",
       "      <td>...</td>\n",
       "      <td>0</td>\n",
       "      <td>0</td>\n",
       "      <td>0</td>\n",
       "      <td>0</td>\n",
       "      <td>0</td>\n",
       "      <td>0</td>\n",
       "      <td>0</td>\n",
       "      <td>0</td>\n",
       "      <td>0</td>\n",
       "      <td>0</td>\n",
       "    </tr>\n",
       "    <tr>\n",
       "      <th>0</th>\n",
       "      <td>asS</td>\n",
       "      <td>0</td>\n",
       "      <td>0</td>\n",
       "      <td>0</td>\n",
       "      <td>0</td>\n",
       "      <td>0</td>\n",
       "      <td>0</td>\n",
       "      <td>0</td>\n",
       "      <td>0</td>\n",
       "      <td>0</td>\n",
       "      <td>...</td>\n",
       "      <td>0</td>\n",
       "      <td>0</td>\n",
       "      <td>0</td>\n",
       "      <td>0</td>\n",
       "      <td>0</td>\n",
       "      <td>0</td>\n",
       "      <td>0</td>\n",
       "      <td>0</td>\n",
       "      <td>0</td>\n",
       "      <td>0</td>\n",
       "    </tr>\n",
       "  </tbody>\n",
       "</table>\n",
       "<p>2 rows × 132 columns</p>\n",
       "</div>"
      ],
      "text/plain": [
       "  Name Abdominal swelling (Stomach swelling) Alcohol abuse  \\\n",
       "0  asS                                     0             0   \n",
       "0  asS                                     0             0   \n",
       "\n",
       "  Amenorrhea (No menstruation) Anxiety (Nervousness) Arm ache or pain  \\\n",
       "0                            0                     0                0   \n",
       "0                            0                     0                0   \n",
       "\n",
       "  Arm itching Arm numbness (paresthesias) Arm redness Arm swelling  \\\n",
       "0           0                           0           0            0   \n",
       "0           0                           0           0            0   \n",
       "\n",
       "      ...     Upper abdominal pain Urinary retention (Inability to urinate)  \\\n",
       "0     ...                        0                                        0   \n",
       "0     ...                        0                                        0   \n",
       "\n",
       "  Vaginal bleeding Vaginal pain Vertigo (Room spinning)  \\\n",
       "0                0            0                       0   \n",
       "0                0            0                       0   \n",
       "\n",
       "  Visual flashing lights Visual problems Vomiting  \\\n",
       "0                      0               0        0   \n",
       "0                      0               0        0   \n",
       "\n",
       "  Vomiting coffee ground material Weight loss  \n",
       "0                               0           0  \n",
       "0                               0           0  \n",
       "\n",
       "[2 rows x 132 columns]"
      ]
     },
     "execution_count": 31,
     "metadata": {},
     "output_type": "execute_result"
    }
   ],
   "source": [
    "pd.concat([similarilty_index, df], axis=0)"
   ]
  },
  {
   "cell_type": "code",
   "execution_count": 32,
   "metadata": {
    "collapsed": false
   },
   "outputs": [
    {
     "data": {
      "text/html": [
       "<div>\n",
       "<table border=\"1\" class=\"dataframe\">\n",
       "  <thead>\n",
       "    <tr style=\"text-align: right;\">\n",
       "      <th></th>\n",
       "      <th>Name</th>\n",
       "      <th>Abdominal swelling (Stomach swelling)</th>\n",
       "      <th>Alcohol abuse</th>\n",
       "      <th>Amenorrhea (No menstruation)</th>\n",
       "      <th>Anxiety (Nervousness)</th>\n",
       "      <th>Arm ache or pain</th>\n",
       "      <th>Arm itching</th>\n",
       "      <th>Arm numbness (paresthesias)</th>\n",
       "      <th>Arm redness</th>\n",
       "      <th>Arm swelling</th>\n",
       "      <th>...</th>\n",
       "      <th>Upper abdominal pain</th>\n",
       "      <th>Urinary retention (Inability to urinate)</th>\n",
       "      <th>Vaginal bleeding</th>\n",
       "      <th>Vaginal pain</th>\n",
       "      <th>Vertigo (Room spinning)</th>\n",
       "      <th>Visual flashing lights</th>\n",
       "      <th>Visual problems</th>\n",
       "      <th>Vomiting</th>\n",
       "      <th>Vomiting coffee ground material</th>\n",
       "      <th>Weight loss</th>\n",
       "    </tr>\n",
       "  </thead>\n",
       "  <tbody>\n",
       "    <tr>\n",
       "      <th>0</th>\n",
       "      <td>asS</td>\n",
       "      <td>0</td>\n",
       "      <td>0</td>\n",
       "      <td>0</td>\n",
       "      <td>0</td>\n",
       "      <td>0</td>\n",
       "      <td>0</td>\n",
       "      <td>0</td>\n",
       "      <td>0</td>\n",
       "      <td>0</td>\n",
       "      <td>...</td>\n",
       "      <td>0</td>\n",
       "      <td>0</td>\n",
       "      <td>0</td>\n",
       "      <td>0</td>\n",
       "      <td>0</td>\n",
       "      <td>0</td>\n",
       "      <td>0</td>\n",
       "      <td>0</td>\n",
       "      <td>0</td>\n",
       "      <td>0</td>\n",
       "    </tr>\n",
       "  </tbody>\n",
       "</table>\n",
       "<p>1 rows × 132 columns</p>\n",
       "</div>"
      ],
      "text/plain": [
       "  Name Abdominal swelling (Stomach swelling) Alcohol abuse  \\\n",
       "0  asS                                     0             0   \n",
       "\n",
       "  Amenorrhea (No menstruation) Anxiety (Nervousness) Arm ache or pain  \\\n",
       "0                            0                     0                0   \n",
       "\n",
       "  Arm itching Arm numbness (paresthesias) Arm redness Arm swelling  \\\n",
       "0           0                           0           0            0   \n",
       "\n",
       "      ...     Upper abdominal pain Urinary retention (Inability to urinate)  \\\n",
       "0     ...                        0                                        0   \n",
       "\n",
       "  Vaginal bleeding Vaginal pain Vertigo (Room spinning)  \\\n",
       "0                0            0                       0   \n",
       "\n",
       "  Visual flashing lights Visual problems Vomiting  \\\n",
       "0                      0               0        0   \n",
       "\n",
       "  Vomiting coffee ground material Weight loss  \n",
       "0                               0           0  \n",
       "\n",
       "[1 rows x 132 columns]"
      ]
     },
     "execution_count": 32,
     "metadata": {},
     "output_type": "execute_result"
    }
   ],
   "source": [
    "similarilty_index.head()"
   ]
  },
  {
   "cell_type": "code",
   "execution_count": 33,
   "metadata": {
    "collapsed": true
   },
   "outputs": [],
   "source": [
    "similarilty_index = pd.DataFrame(columns=[\"Name\"]+sym_list)"
   ]
  },
  {
   "cell_type": "code",
   "execution_count": 34,
   "metadata": {
    "collapsed": false
   },
   "outputs": [
    {
     "data": {
      "text/html": [
       "<div>\n",
       "<table border=\"1\" class=\"dataframe\">\n",
       "  <thead>\n",
       "    <tr style=\"text-align: right;\">\n",
       "      <th></th>\n",
       "      <th>Name</th>\n",
       "      <th>Abdominal swelling (Stomach swelling)</th>\n",
       "      <th>Alcohol abuse</th>\n",
       "      <th>Amenorrhea (No menstruation)</th>\n",
       "      <th>Anxiety (Nervousness)</th>\n",
       "      <th>Arm ache or pain</th>\n",
       "      <th>Arm itching</th>\n",
       "      <th>Arm numbness (paresthesias)</th>\n",
       "      <th>Arm redness</th>\n",
       "      <th>Arm swelling</th>\n",
       "      <th>...</th>\n",
       "      <th>Upper abdominal pain</th>\n",
       "      <th>Urinary retention (Inability to urinate)</th>\n",
       "      <th>Vaginal bleeding</th>\n",
       "      <th>Vaginal pain</th>\n",
       "      <th>Vertigo (Room spinning)</th>\n",
       "      <th>Visual flashing lights</th>\n",
       "      <th>Visual problems</th>\n",
       "      <th>Vomiting</th>\n",
       "      <th>Vomiting coffee ground material</th>\n",
       "      <th>Weight loss</th>\n",
       "    </tr>\n",
       "  </thead>\n",
       "  <tbody>\n",
       "  </tbody>\n",
       "</table>\n",
       "<p>0 rows × 132 columns</p>\n",
       "</div>"
      ],
      "text/plain": [
       "Empty DataFrame\n",
       "Columns: [Name, Abdominal swelling (Stomach swelling), Alcohol abuse, Amenorrhea (No menstruation), Anxiety (Nervousness), Arm ache or pain, Arm itching, Arm numbness (paresthesias), Arm redness, Arm swelling, Armpit pain, Back ache or pain, Bleeding gums, Bleeding tendency, Blister (Pocket of fluid), Blood in urine (Hematuria), Blood in vomit, Blurry vision, Change in behavior, Chest pain, Chest pressure, Chills, Choking, Confusion, Confusion and headache, Cough, Delusions or hallucinations, Depressed, Dizziness, Double vision (Diplopia), Ear pressure, Ear swelling, Eye floaters, Eye pain (Irritation), Eye redness, Eye swelling, Face numbness (paresthesias), Facial droop (weakness), Facial pain, Failure to thrive, Fainting, Fever, Fever in the returning traveler, Fever of unknown origin, Flank pain, Foot itching, Foot numbness (paresthesias), Foot redness, Frequent urination (Frequency), General weakness, Hand itching, Hand numbness (paresthesias), Hand redness, Headache, Headache and weakness, Heart pulsations and palpitations, Hemoptysis (Coughing blood), Hives, Hot flashes, Hypothermia (Low temperature), Impotence, Inconsolable baby, Incontinence (leaking urine), Increased facial hair, Infertility (Female), Insomnia (Trouble sleeping), Itchy rash (Pruritic rash), Jaundice (Yellowing skin), Jaw pain, Kidney pain (Flank pain), Learning difficulties, Leg ache or pain, Leg numbness (paresthesias), Lethargy (Sluggishness), Lip swelling, Loss of balance, Low back ache or pain, Low heart rate, Lower abdominal pain, Mouth pain, Mouth swelling, Mouth ulcers, Muscle pain, Muscle spasm, Nasal bleeding, Nasal congestion, Neck ache or pain, Neck swelling, Nipple discharge, Numbness, Obesity, Overdose, Pain in the ear, Pain or soreness of breast, Painful gums, Painful rash, Poisoning, Pustule (Collection of pus), Rash, Ringing in ears (Tinnitus), ...]\n",
       "Index: []\n",
       "\n",
       "[0 rows x 132 columns]"
      ]
     },
     "execution_count": 34,
     "metadata": {},
     "output_type": "execute_result"
    }
   ],
   "source": [
    "similarilty_index.head()"
   ]
  },
  {
   "cell_type": "code",
   "execution_count": 35,
   "metadata": {
    "collapsed": false
   },
   "outputs": [
    {
     "data": {
      "text/html": [
       "<div>\n",
       "<table border=\"1\" class=\"dataframe\">\n",
       "  <thead>\n",
       "    <tr style=\"text-align: right;\">\n",
       "      <th></th>\n",
       "      <th>Name</th>\n",
       "      <th>Address</th>\n",
       "      <th>Diagnosis</th>\n",
       "      <th>Symptom</th>\n",
       "    </tr>\n",
       "  </thead>\n",
       "  <tbody>\n",
       "    <tr>\n",
       "      <th>74</th>\n",
       "      <td>Dr Michael Davis</td>\n",
       "      <td>Russellbury</td>\n",
       "      <td>Cancer tumor</td>\n",
       "      <td>Fever of unknown origin,Swelling of both legs,...</td>\n",
       "    </tr>\n",
       "    <tr>\n",
       "      <th>75</th>\n",
       "      <td>Dr Crystal Davis</td>\n",
       "      <td>Lake Kristi</td>\n",
       "      <td>Langerhans cell histiocytosis Histiocytosis X</td>\n",
       "      <td>Arm ache or pain,Leg ache or pain,Shortness of...</td>\n",
       "    </tr>\n",
       "  </tbody>\n",
       "</table>\n",
       "</div>"
      ],
      "text/plain": [
       "                Name      Address  \\\n",
       "74  Dr Michael Davis  Russellbury   \n",
       "75  Dr Crystal Davis  Lake Kristi   \n",
       "\n",
       "                                        Diagnosis  \\\n",
       "74                                   Cancer tumor   \n",
       "75  Langerhans cell histiocytosis Histiocytosis X   \n",
       "\n",
       "                                              Symptom  \n",
       "74  Fever of unknown origin,Swelling of both legs,...  \n",
       "75  Arm ache or pain,Leg ache or pain,Shortness of...  "
      ]
     },
     "execution_count": 35,
     "metadata": {},
     "output_type": "execute_result"
    }
   ],
   "source": [
    "main_df.loc[74:75]"
   ]
  },
  {
   "cell_type": "code",
   "execution_count": 36,
   "metadata": {
    "collapsed": false
   },
   "outputs": [],
   "source": [
    "k = 0\n",
    "for i in main_df.itertuples():\n",
    "    k += 1\n",
    "    temp = [0] * dimensions\n",
    "    for j in i.Symptom.split(','):\n",
    "        temp = list(map(add, temp, sym_to_index(j)))\n",
    "    df = pd.DataFrame([i.Name]+temp, index=main_index)\n",
    "    similarilty_index = pd.concat([similarilty_index, df.transpose()], axis=0)"
   ]
  },
  {
   "cell_type": "code",
   "execution_count": 37,
   "metadata": {
    "collapsed": false
   },
   "outputs": [],
   "source": [
    "X = similarilty_index.set_index('Name').as_matrix()"
   ]
  },
  {
   "cell_type": "markdown",
   "metadata": {},
   "source": [
    "# Ball Tree Algo in sklearn"
   ]
  },
  {
   "cell_type": "code",
   "execution_count": 62,
   "metadata": {
    "collapsed": true
   },
   "outputs": [],
   "source": [
    "clf = NearestNeighbors(n_neighbors=2, algorithm='ball_tree')"
   ]
  },
  {
   "cell_type": "code",
   "execution_count": 63,
   "metadata": {
    "collapsed": false
   },
   "outputs": [],
   "source": [
    "nbrs = clf.fit(X)"
   ]
  },
  {
   "cell_type": "code",
   "execution_count": 64,
   "metadata": {
    "collapsed": false
   },
   "outputs": [
    {
     "name": "stderr",
     "output_type": "stream",
     "text": [
      "/usr/local/lib/python3.5/dist-packages/sklearn/utils/validation.py:395: DeprecationWarning: Passing 1d arrays as data is deprecated in 0.17 and will raise ValueError in 0.19. Reshape your data either using X.reshape(-1, 1) if your data has a single feature or X.reshape(1, -1) if it contains a single sample.\n",
      "  DeprecationWarning)\n"
     ]
    }
   ],
   "source": [
    "dist, ind = nbrs.kneighbors(X[2])"
   ]
  },
  {
   "cell_type": "code",
   "execution_count": 65,
   "metadata": {
    "collapsed": false
   },
   "outputs": [
    {
     "name": "stdout",
     "output_type": "stream",
     "text": [
      "[[ 0.          1.41421356]] [[ 2 80]]\n"
     ]
    }
   ],
   "source": [
    "print(dist, ind)"
   ]
  },
  {
   "cell_type": "markdown",
   "metadata": {},
   "source": [
    "### Find doctor who happened similar case"
   ]
  },
  {
   "cell_type": "code",
   "execution_count": 66,
   "metadata": {
    "collapsed": false
   },
   "outputs": [
    {
     "data": {
      "text/plain": [
       "'Dr Kyle Banks'"
      ]
     },
     "execution_count": 66,
     "metadata": {},
     "output_type": "execute_result"
    }
   ],
   "source": [
    "similarilty_index.iloc[ind[0][1]].Name"
   ]
  },
  {
   "cell_type": "markdown",
   "metadata": {},
   "source": [
    "# KD Tree"
   ]
  },
  {
   "cell_type": "code",
   "execution_count": 69,
   "metadata": {
    "collapsed": false
   },
   "outputs": [],
   "source": [
    "kdt = KDTree(X, leaf_size=30, metric='euclidean')"
   ]
  },
  {
   "cell_type": "code",
   "execution_count": 73,
   "metadata": {
    "collapsed": false
   },
   "outputs": [
    {
     "name": "stderr",
     "output_type": "stream",
     "text": [
      "/usr/local/lib/python3.5/dist-packages/sklearn/utils/validation.py:395: DeprecationWarning: Passing 1d arrays as data is deprecated in 0.17 and will raise ValueError in 0.19. Reshape your data either using X.reshape(-1, 1) if your data has a single feature or X.reshape(1, -1) if it contains a single sample.\n",
      "  DeprecationWarning)\n"
     ]
    }
   ],
   "source": [
    "dist, ind = kdt.query(X[2], k=2, return_distance = True)  "
   ]
  },
  {
   "cell_type": "code",
   "execution_count": 74,
   "metadata": {
    "collapsed": false
   },
   "outputs": [
    {
     "name": "stdout",
     "output_type": "stream",
     "text": [
      "[[ 0.          1.41421356]] [[ 2 80]]\n"
     ]
    }
   ],
   "source": [
    "print(dist, ind)"
   ]
  },
  {
   "cell_type": "code",
   "execution_count": 75,
   "metadata": {
    "collapsed": false
   },
   "outputs": [
    {
     "data": {
      "text/plain": [
       "'Dr Kyle Banks'"
      ]
     },
     "execution_count": 75,
     "metadata": {},
     "output_type": "execute_result"
    }
   ],
   "source": [
    "similarilty_index.iloc[ind[0][1]].Name"
   ]
  },
  {
   "cell_type": "code",
   "execution_count": null,
   "metadata": {
    "collapsed": true
   },
   "outputs": [],
   "source": []
  }
 ],
 "metadata": {
  "kernelspec": {
   "display_name": "Python 3",
   "language": "python",
   "name": "python3"
  },
  "language_info": {
   "codemirror_mode": {
    "name": "ipython",
    "version": 3
   },
   "file_extension": ".py",
   "mimetype": "text/x-python",
   "name": "python",
   "nbconvert_exporter": "python",
   "pygments_lexer": "ipython3",
   "version": "3.5.2"
  }
 },
 "nbformat": 4,
 "nbformat_minor": 2
}
