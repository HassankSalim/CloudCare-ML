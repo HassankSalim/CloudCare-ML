{
 "cells": [
  {
   "cell_type": "code",
   "execution_count": 59,
   "metadata": {
    "collapsed": true
   },
   "outputs": [],
   "source": [
    "import pandas as pd\n",
    "import numpy as np\n",
    "from sklearn.preprocessing import OneHotEncoder, Normalizer, LabelEncoder, MinMaxScaler\n",
    "from operator import add\n",
    "from sklearn.neighbors import NearestNeighbors, KDTree\n",
    "from sklearn.externals import joblib"
   ]
  },
  {
   "cell_type": "code",
   "execution_count": 60,
   "metadata": {
    "collapsed": true
   },
   "outputs": [],
   "source": [
    "main_df = pd.read_csv(\"final_mock_data.csv\")"
   ]
  },
  {
   "cell_type": "code",
   "execution_count": 61,
   "metadata": {
    "collapsed": false
   },
   "outputs": [
    {
     "data": {
      "text/html": [
       "<div>\n",
       "<table border=\"1\" class=\"dataframe\">\n",
       "  <thead>\n",
       "    <tr style=\"text-align: right;\">\n",
       "      <th></th>\n",
       "      <th>Name</th>\n",
       "      <th>Address</th>\n",
       "      <th>Diagnosis</th>\n",
       "      <th>Symptom</th>\n",
       "    </tr>\n",
       "  </thead>\n",
       "  <tbody>\n",
       "    <tr>\n",
       "      <th>0</th>\n",
       "      <td>Dr Robert Caldwell</td>\n",
       "      <td>North Mark</td>\n",
       "      <td>Aphakia</td>\n",
       "      <td>Visual problems</td>\n",
       "    </tr>\n",
       "    <tr>\n",
       "      <th>1</th>\n",
       "      <td>Dr Kathy Johnson</td>\n",
       "      <td>Port Rachel</td>\n",
       "      <td>Retinitis pigmentosa</td>\n",
       "      <td>Visual problems</td>\n",
       "    </tr>\n",
       "    <tr>\n",
       "      <th>2</th>\n",
       "      <td>Dr Michael Davis</td>\n",
       "      <td>Port Rachel</td>\n",
       "      <td>Coronary artery anomaly heart artery malformation</td>\n",
       "      <td>Heart pulsations and palpitations,Inconsolable...</td>\n",
       "    </tr>\n",
       "    <tr>\n",
       "      <th>3</th>\n",
       "      <td>Dr Carol Roberts</td>\n",
       "      <td>Lake Kristi</td>\n",
       "      <td>Adenoiditis (a type of lymph node inflammation)</td>\n",
       "      <td>Snoring</td>\n",
       "    </tr>\n",
       "    <tr>\n",
       "      <th>4</th>\n",
       "      <td>Dr Michael Davis</td>\n",
       "      <td>Daltonchester</td>\n",
       "      <td>Ankylosing spondylitis  (severe spine arthritis)</td>\n",
       "      <td>Back ache or pain,Neck ache or pain,Low back a...</td>\n",
       "    </tr>\n",
       "  </tbody>\n",
       "</table>\n",
       "</div>"
      ],
      "text/plain": [
       "                 Name        Address  \\\n",
       "0  Dr Robert Caldwell     North Mark   \n",
       "1    Dr Kathy Johnson    Port Rachel   \n",
       "2    Dr Michael Davis    Port Rachel   \n",
       "3    Dr Carol Roberts    Lake Kristi   \n",
       "4    Dr Michael Davis  Daltonchester   \n",
       "\n",
       "                                           Diagnosis  \\\n",
       "0                                            Aphakia   \n",
       "1                               Retinitis pigmentosa   \n",
       "2  Coronary artery anomaly heart artery malformation   \n",
       "3    Adenoiditis (a type of lymph node inflammation)   \n",
       "4   Ankylosing spondylitis  (severe spine arthritis)   \n",
       "\n",
       "                                             Symptom  \n",
       "0                                    Visual problems  \n",
       "1                                    Visual problems  \n",
       "2  Heart pulsations and palpitations,Inconsolable...  \n",
       "3                                            Snoring  \n",
       "4  Back ache or pain,Neck ache or pain,Low back a...  "
      ]
     },
     "execution_count": 61,
     "metadata": {},
     "output_type": "execute_result"
    }
   ],
   "source": [
    "main_df.head()"
   ]
  },
  {
   "cell_type": "code",
   "execution_count": 62,
   "metadata": {
    "collapsed": false
   },
   "outputs": [
    {
     "data": {
      "text/plain": [
       "Name         89\n",
       "Address      89\n",
       "Diagnosis    89\n",
       "Symptom      89\n",
       "dtype: int64"
      ]
     },
     "execution_count": 62,
     "metadata": {},
     "output_type": "execute_result"
    }
   ],
   "source": [
    "main_df.dropna().count()"
   ]
  },
  {
   "cell_type": "code",
   "execution_count": 63,
   "metadata": {
    "collapsed": false
   },
   "outputs": [],
   "source": [
    "main_df  = main_df.dropna()"
   ]
  },
  {
   "cell_type": "code",
   "execution_count": 64,
   "metadata": {
    "collapsed": true
   },
   "outputs": [],
   "source": [
    "sym_list = open(\"final_sym.txt\", \"r\").read().split('\\n')"
   ]
  },
  {
   "cell_type": "code",
   "execution_count": 65,
   "metadata": {
    "collapsed": false
   },
   "outputs": [],
   "source": [
    "sym_list = sym_list[:-1]\n",
    "dimensions = len(sym_list)"
   ]
  },
  {
   "cell_type": "code",
   "execution_count": 66,
   "metadata": {
    "collapsed": false
   },
   "outputs": [],
   "source": [
    "sym_list[-1] = 'Weight loss'"
   ]
  },
  {
   "cell_type": "code",
   "execution_count": 135,
   "metadata": {
    "collapsed": true
   },
   "outputs": [],
   "source": [
    "a_sym_list = np.array(sym_list)"
   ]
  },
  {
   "cell_type": "code",
   "execution_count": 67,
   "metadata": {
    "collapsed": true
   },
   "outputs": [],
   "source": [
    "similarilty_index = pd.DataFrame(columns=[\"Name\"]+sym_list)"
   ]
  },
  {
   "cell_type": "code",
   "execution_count": 68,
   "metadata": {
    "collapsed": false
   },
   "outputs": [
    {
     "data": {
      "text/plain": [
       "131"
      ]
     },
     "execution_count": 68,
     "metadata": {},
     "output_type": "execute_result"
    }
   ],
   "source": [
    "dimensions"
   ]
  },
  {
   "cell_type": "code",
   "execution_count": 69,
   "metadata": {
    "collapsed": false
   },
   "outputs": [
    {
     "data": {
      "text/html": [
       "<div>\n",
       "<table border=\"1\" class=\"dataframe\">\n",
       "  <thead>\n",
       "    <tr style=\"text-align: right;\">\n",
       "      <th></th>\n",
       "      <th>Name</th>\n",
       "      <th>Abdominal swelling (Stomach swelling)</th>\n",
       "      <th>Alcohol abuse</th>\n",
       "      <th>Amenorrhea (No menstruation)</th>\n",
       "      <th>Anxiety (Nervousness)</th>\n",
       "      <th>Arm ache or pain</th>\n",
       "      <th>Arm itching</th>\n",
       "      <th>Arm numbness (paresthesias)</th>\n",
       "      <th>Arm redness</th>\n",
       "      <th>Arm swelling</th>\n",
       "      <th>...</th>\n",
       "      <th>Upper abdominal pain</th>\n",
       "      <th>Urinary retention (Inability to urinate)</th>\n",
       "      <th>Vaginal bleeding</th>\n",
       "      <th>Vaginal pain</th>\n",
       "      <th>Vertigo (Room spinning)</th>\n",
       "      <th>Visual flashing lights</th>\n",
       "      <th>Visual problems</th>\n",
       "      <th>Vomiting</th>\n",
       "      <th>Vomiting coffee ground material</th>\n",
       "      <th>Weight loss</th>\n",
       "    </tr>\n",
       "  </thead>\n",
       "  <tbody>\n",
       "  </tbody>\n",
       "</table>\n",
       "<p>0 rows × 132 columns</p>\n",
       "</div>"
      ],
      "text/plain": [
       "Empty DataFrame\n",
       "Columns: [Name, Abdominal swelling (Stomach swelling), Alcohol abuse, Amenorrhea (No menstruation), Anxiety (Nervousness), Arm ache or pain, Arm itching, Arm numbness (paresthesias), Arm redness, Arm swelling, Armpit pain, Back ache or pain, Bleeding gums, Bleeding tendency, Blister (Pocket of fluid), Blood in urine (Hematuria), Blood in vomit, Blurry vision, Change in behavior, Chest pain, Chest pressure, Chills, Choking, Confusion, Confusion and headache, Cough, Delusions or hallucinations, Depressed, Dizziness, Double vision (Diplopia), Ear pressure, Ear swelling, Eye floaters, Eye pain (Irritation), Eye redness, Eye swelling, Face numbness (paresthesias), Facial droop (weakness), Facial pain, Failure to thrive, Fainting, Fever, Fever in the returning traveler, Fever of unknown origin, Flank pain, Foot itching, Foot numbness (paresthesias), Foot redness, Frequent urination (Frequency), General weakness, Hand itching, Hand numbness (paresthesias), Hand redness, Headache, Headache and weakness, Heart pulsations and palpitations, Hemoptysis (Coughing blood), Hives, Hot flashes, Hypothermia (Low temperature), Impotence, Inconsolable baby, Incontinence (leaking urine), Increased facial hair, Infertility (Female), Insomnia (Trouble sleeping), Itchy rash (Pruritic rash), Jaundice (Yellowing skin), Jaw pain, Kidney pain (Flank pain), Learning difficulties, Leg ache or pain, Leg numbness (paresthesias), Lethargy (Sluggishness), Lip swelling, Loss of balance, Low back ache or pain, Low heart rate, Lower abdominal pain, Mouth pain, Mouth swelling, Mouth ulcers, Muscle pain, Muscle spasm, Nasal bleeding, Nasal congestion, Neck ache or pain, Neck swelling, Nipple discharge, Numbness, Obesity, Overdose, Pain in the ear, Pain or soreness of breast, Painful gums, Painful rash, Poisoning, Pustule (Collection of pus), Rash, Ringing in ears (Tinnitus), ...]\n",
       "Index: []\n",
       "\n",
       "[0 rows x 132 columns]"
      ]
     },
     "execution_count": 69,
     "metadata": {},
     "output_type": "execute_result"
    }
   ],
   "source": [
    "similarilty_index.head()\n",
    "# similarilty_index.set_index('Name')"
   ]
  },
  {
   "cell_type": "code",
   "execution_count": 70,
   "metadata": {
    "collapsed": false
   },
   "outputs": [],
   "source": [
    "main_index = similarilty_index.columns"
   ]
  },
  {
   "cell_type": "code",
   "execution_count": 71,
   "metadata": {
    "collapsed": false
   },
   "outputs": [
    {
     "data": {
      "text/plain": [
       "Index(['Name', 'Abdominal swelling (Stomach swelling)', 'Alcohol abuse',\n",
       "       'Amenorrhea (No menstruation)', 'Anxiety (Nervousness)',\n",
       "       'Arm ache or pain', 'Arm itching', 'Arm numbness (paresthesias)',\n",
       "       'Arm redness', 'Arm swelling',\n",
       "       ...\n",
       "       'Upper abdominal pain', 'Urinary retention (Inability to urinate)',\n",
       "       'Vaginal bleeding', 'Vaginal pain', 'Vertigo (Room spinning)',\n",
       "       'Visual flashing lights', 'Visual problems', 'Vomiting',\n",
       "       'Vomiting coffee ground material', 'Weight loss'],\n",
       "      dtype='object', length=132)"
      ]
     },
     "execution_count": 71,
     "metadata": {},
     "output_type": "execute_result"
    }
   ],
   "source": [
    "main_index"
   ]
  },
  {
   "cell_type": "code",
   "execution_count": 72,
   "metadata": {
    "collapsed": false
   },
   "outputs": [
    {
     "data": {
      "text/plain": [
       "LabelEncoder()"
      ]
     },
     "execution_count": 72,
     "metadata": {},
     "output_type": "execute_result"
    }
   ],
   "source": [
    "ohe = OneHotEncoder()\n",
    "lbl = LabelEncoder()\n",
    "lbl.fit(sym_list)"
   ]
  },
  {
   "cell_type": "code",
   "execution_count": 73,
   "metadata": {
    "collapsed": false
   },
   "outputs": [
    {
     "data": {
      "text/plain": [
       "131"
      ]
     },
     "execution_count": 73,
     "metadata": {},
     "output_type": "execute_result"
    }
   ],
   "source": [
    "len(lbl.classes_)"
   ]
  },
  {
   "cell_type": "code",
   "execution_count": 74,
   "metadata": {
    "collapsed": false
   },
   "outputs": [],
   "source": [
    "temp_for_ohe = lbl.transform(sym_list).reshape(-1, 1)"
   ]
  },
  {
   "cell_type": "code",
   "execution_count": 75,
   "metadata": {
    "collapsed": false
   },
   "outputs": [
    {
     "data": {
      "text/plain": [
       "OneHotEncoder(categorical_features='all', dtype=<class 'numpy.float64'>,\n",
       "       handle_unknown='error', n_values='auto', sparse=True)"
      ]
     },
     "execution_count": 75,
     "metadata": {},
     "output_type": "execute_result"
    }
   ],
   "source": [
    "ohe.fit(temp_for_ohe)"
   ]
  },
  {
   "cell_type": "code",
   "execution_count": 76,
   "metadata": {
    "collapsed": false
   },
   "outputs": [],
   "source": [
    "t1 = lbl.transform(['Vomiting'])"
   ]
  },
  {
   "cell_type": "code",
   "execution_count": 77,
   "metadata": {
    "collapsed": false
   },
   "outputs": [],
   "source": [
    "t2 = ohe.transform([t1]).toarray()"
   ]
  },
  {
   "cell_type": "code",
   "execution_count": 78,
   "metadata": {
    "collapsed": false
   },
   "outputs": [],
   "source": [
    "def sym_to_index(sym):\n",
    "    if(sym == ' unexplained'): return [0] * dimensions\n",
    "    t1 = lbl.transform([sym])\n",
    "    return ohe.transform([t1]).toarray()[0]"
   ]
  },
  {
   "cell_type": "code",
   "execution_count": 79,
   "metadata": {
    "collapsed": false
   },
   "outputs": [
    {
     "data": {
      "text/plain": [
       "131"
      ]
     },
     "execution_count": 79,
     "metadata": {},
     "output_type": "execute_result"
    }
   ],
   "source": [
    "len(sym_to_index('Weight loss'))"
   ]
  },
  {
   "cell_type": "code",
   "execution_count": 80,
   "metadata": {
    "collapsed": false
   },
   "outputs": [
    {
     "data": {
      "text/plain": [
       "array(['asS', '0', '0', '0', '0', '0', '0', '0', '0', '0', '0', '0', '0',\n",
       "       '0', '0', '0', '0', '0', '0', '0', '0', '0', '0', '0', '0', '0',\n",
       "       '0', '0', '0', '0', '0', '0', '0', '0', '0', '0', '0', '0', '0',\n",
       "       '0', '0', '0', '0', '0', '0', '0', '0', '0', '0', '0', '0', '0',\n",
       "       '0', '0', '0', '0', '0', '0', '0', '0', '0', '0', '0', '0', '0',\n",
       "       '0', '0', '0', '0', '0', '0', '0', '0', '0', '0', '0', '0', '0',\n",
       "       '0', '0', '0', '0', '0', '0', '0', '0', '0', '0', '0', '0', '0',\n",
       "       '0', '0', '0', '0', '0', '0', '0', '0', '0', '0', '0', '0', '0',\n",
       "       '0', '0', '0', '0', '0', '0', '0', '0', '0', '0', '0', '0', '0',\n",
       "       '0', '0', '0', '0', '0', '0', '0', '0', '0', '0', '0', '0', '0',\n",
       "       '0', '0'],\n",
       "      dtype='<U3')"
      ]
     },
     "execution_count": 80,
     "metadata": {},
     "output_type": "execute_result"
    }
   ],
   "source": [
    "np.array(['asS'] + [0] * dimensions).transpose()"
   ]
  },
  {
   "cell_type": "code",
   "execution_count": 81,
   "metadata": {
    "collapsed": false
   },
   "outputs": [],
   "source": [
    "df = pd.DataFrame(np.array(['asS'] + [0] * dimensions), index=main_index).transpose()"
   ]
  },
  {
   "cell_type": "code",
   "execution_count": 82,
   "metadata": {
    "collapsed": false
   },
   "outputs": [
    {
     "name": "stdout",
     "output_type": "stream",
     "text": [
      "(1, 132)\n"
     ]
    }
   ],
   "source": [
    "print(df.shape)"
   ]
  },
  {
   "cell_type": "code",
   "execution_count": 83,
   "metadata": {
    "collapsed": false
   },
   "outputs": [
    {
     "data": {
      "text/html": [
       "<div>\n",
       "<table border=\"1\" class=\"dataframe\">\n",
       "  <thead>\n",
       "    <tr style=\"text-align: right;\">\n",
       "      <th></th>\n",
       "      <th>Name</th>\n",
       "      <th>Abdominal swelling (Stomach swelling)</th>\n",
       "      <th>Alcohol abuse</th>\n",
       "      <th>Amenorrhea (No menstruation)</th>\n",
       "      <th>Anxiety (Nervousness)</th>\n",
       "      <th>Arm ache or pain</th>\n",
       "      <th>Arm itching</th>\n",
       "      <th>Arm numbness (paresthesias)</th>\n",
       "      <th>Arm redness</th>\n",
       "      <th>Arm swelling</th>\n",
       "      <th>...</th>\n",
       "      <th>Upper abdominal pain</th>\n",
       "      <th>Urinary retention (Inability to urinate)</th>\n",
       "      <th>Vaginal bleeding</th>\n",
       "      <th>Vaginal pain</th>\n",
       "      <th>Vertigo (Room spinning)</th>\n",
       "      <th>Visual flashing lights</th>\n",
       "      <th>Visual problems</th>\n",
       "      <th>Vomiting</th>\n",
       "      <th>Vomiting coffee ground material</th>\n",
       "      <th>Weight loss</th>\n",
       "    </tr>\n",
       "  </thead>\n",
       "  <tbody>\n",
       "    <tr>\n",
       "      <th>0</th>\n",
       "      <td>asS</td>\n",
       "      <td>0</td>\n",
       "      <td>0</td>\n",
       "      <td>0</td>\n",
       "      <td>0</td>\n",
       "      <td>0</td>\n",
       "      <td>0</td>\n",
       "      <td>0</td>\n",
       "      <td>0</td>\n",
       "      <td>0</td>\n",
       "      <td>...</td>\n",
       "      <td>0</td>\n",
       "      <td>0</td>\n",
       "      <td>0</td>\n",
       "      <td>0</td>\n",
       "      <td>0</td>\n",
       "      <td>0</td>\n",
       "      <td>0</td>\n",
       "      <td>0</td>\n",
       "      <td>0</td>\n",
       "      <td>0</td>\n",
       "    </tr>\n",
       "  </tbody>\n",
       "</table>\n",
       "<p>1 rows × 132 columns</p>\n",
       "</div>"
      ],
      "text/plain": [
       "  Name Abdominal swelling (Stomach swelling) Alcohol abuse  \\\n",
       "0  asS                                     0             0   \n",
       "\n",
       "  Amenorrhea (No menstruation) Anxiety (Nervousness) Arm ache or pain  \\\n",
       "0                            0                     0                0   \n",
       "\n",
       "  Arm itching Arm numbness (paresthesias) Arm redness Arm swelling  \\\n",
       "0           0                           0           0            0   \n",
       "\n",
       "      ...     Upper abdominal pain Urinary retention (Inability to urinate)  \\\n",
       "0     ...                        0                                        0   \n",
       "\n",
       "  Vaginal bleeding Vaginal pain Vertigo (Room spinning)  \\\n",
       "0                0            0                       0   \n",
       "\n",
       "  Visual flashing lights Visual problems Vomiting  \\\n",
       "0                      0               0        0   \n",
       "\n",
       "  Vomiting coffee ground material Weight loss  \n",
       "0                               0           0  \n",
       "\n",
       "[1 rows x 132 columns]"
      ]
     },
     "execution_count": 83,
     "metadata": {},
     "output_type": "execute_result"
    }
   ],
   "source": [
    "df"
   ]
  },
  {
   "cell_type": "code",
   "execution_count": 84,
   "metadata": {
    "collapsed": true
   },
   "outputs": [],
   "source": [
    "similarilty_index = df"
   ]
  },
  {
   "cell_type": "code",
   "execution_count": 85,
   "metadata": {
    "collapsed": false
   },
   "outputs": [
    {
     "data": {
      "text/html": [
       "<div>\n",
       "<table border=\"1\" class=\"dataframe\">\n",
       "  <thead>\n",
       "    <tr style=\"text-align: right;\">\n",
       "      <th></th>\n",
       "      <th>Name</th>\n",
       "      <th>Abdominal swelling (Stomach swelling)</th>\n",
       "      <th>Alcohol abuse</th>\n",
       "      <th>Amenorrhea (No menstruation)</th>\n",
       "      <th>Anxiety (Nervousness)</th>\n",
       "      <th>Arm ache or pain</th>\n",
       "      <th>Arm itching</th>\n",
       "      <th>Arm numbness (paresthesias)</th>\n",
       "      <th>Arm redness</th>\n",
       "      <th>Arm swelling</th>\n",
       "      <th>...</th>\n",
       "      <th>Upper abdominal pain</th>\n",
       "      <th>Urinary retention (Inability to urinate)</th>\n",
       "      <th>Vaginal bleeding</th>\n",
       "      <th>Vaginal pain</th>\n",
       "      <th>Vertigo (Room spinning)</th>\n",
       "      <th>Visual flashing lights</th>\n",
       "      <th>Visual problems</th>\n",
       "      <th>Vomiting</th>\n",
       "      <th>Vomiting coffee ground material</th>\n",
       "      <th>Weight loss</th>\n",
       "    </tr>\n",
       "  </thead>\n",
       "  <tbody>\n",
       "    <tr>\n",
       "      <th>0</th>\n",
       "      <td>asS</td>\n",
       "      <td>0</td>\n",
       "      <td>0</td>\n",
       "      <td>0</td>\n",
       "      <td>0</td>\n",
       "      <td>0</td>\n",
       "      <td>0</td>\n",
       "      <td>0</td>\n",
       "      <td>0</td>\n",
       "      <td>0</td>\n",
       "      <td>...</td>\n",
       "      <td>0</td>\n",
       "      <td>0</td>\n",
       "      <td>0</td>\n",
       "      <td>0</td>\n",
       "      <td>0</td>\n",
       "      <td>0</td>\n",
       "      <td>0</td>\n",
       "      <td>0</td>\n",
       "      <td>0</td>\n",
       "      <td>0</td>\n",
       "    </tr>\n",
       "    <tr>\n",
       "      <th>0</th>\n",
       "      <td>asS</td>\n",
       "      <td>0</td>\n",
       "      <td>0</td>\n",
       "      <td>0</td>\n",
       "      <td>0</td>\n",
       "      <td>0</td>\n",
       "      <td>0</td>\n",
       "      <td>0</td>\n",
       "      <td>0</td>\n",
       "      <td>0</td>\n",
       "      <td>...</td>\n",
       "      <td>0</td>\n",
       "      <td>0</td>\n",
       "      <td>0</td>\n",
       "      <td>0</td>\n",
       "      <td>0</td>\n",
       "      <td>0</td>\n",
       "      <td>0</td>\n",
       "      <td>0</td>\n",
       "      <td>0</td>\n",
       "      <td>0</td>\n",
       "    </tr>\n",
       "  </tbody>\n",
       "</table>\n",
       "<p>2 rows × 132 columns</p>\n",
       "</div>"
      ],
      "text/plain": [
       "  Name Abdominal swelling (Stomach swelling) Alcohol abuse  \\\n",
       "0  asS                                     0             0   \n",
       "0  asS                                     0             0   \n",
       "\n",
       "  Amenorrhea (No menstruation) Anxiety (Nervousness) Arm ache or pain  \\\n",
       "0                            0                     0                0   \n",
       "0                            0                     0                0   \n",
       "\n",
       "  Arm itching Arm numbness (paresthesias) Arm redness Arm swelling  \\\n",
       "0           0                           0           0            0   \n",
       "0           0                           0           0            0   \n",
       "\n",
       "      ...     Upper abdominal pain Urinary retention (Inability to urinate)  \\\n",
       "0     ...                        0                                        0   \n",
       "0     ...                        0                                        0   \n",
       "\n",
       "  Vaginal bleeding Vaginal pain Vertigo (Room spinning)  \\\n",
       "0                0            0                       0   \n",
       "0                0            0                       0   \n",
       "\n",
       "  Visual flashing lights Visual problems Vomiting  \\\n",
       "0                      0               0        0   \n",
       "0                      0               0        0   \n",
       "\n",
       "  Vomiting coffee ground material Weight loss  \n",
       "0                               0           0  \n",
       "0                               0           0  \n",
       "\n",
       "[2 rows x 132 columns]"
      ]
     },
     "execution_count": 85,
     "metadata": {},
     "output_type": "execute_result"
    }
   ],
   "source": [
    "pd.concat([similarilty_index, df], axis=0)"
   ]
  },
  {
   "cell_type": "code",
   "execution_count": 86,
   "metadata": {
    "collapsed": false
   },
   "outputs": [
    {
     "data": {
      "text/html": [
       "<div>\n",
       "<table border=\"1\" class=\"dataframe\">\n",
       "  <thead>\n",
       "    <tr style=\"text-align: right;\">\n",
       "      <th></th>\n",
       "      <th>Name</th>\n",
       "      <th>Abdominal swelling (Stomach swelling)</th>\n",
       "      <th>Alcohol abuse</th>\n",
       "      <th>Amenorrhea (No menstruation)</th>\n",
       "      <th>Anxiety (Nervousness)</th>\n",
       "      <th>Arm ache or pain</th>\n",
       "      <th>Arm itching</th>\n",
       "      <th>Arm numbness (paresthesias)</th>\n",
       "      <th>Arm redness</th>\n",
       "      <th>Arm swelling</th>\n",
       "      <th>...</th>\n",
       "      <th>Upper abdominal pain</th>\n",
       "      <th>Urinary retention (Inability to urinate)</th>\n",
       "      <th>Vaginal bleeding</th>\n",
       "      <th>Vaginal pain</th>\n",
       "      <th>Vertigo (Room spinning)</th>\n",
       "      <th>Visual flashing lights</th>\n",
       "      <th>Visual problems</th>\n",
       "      <th>Vomiting</th>\n",
       "      <th>Vomiting coffee ground material</th>\n",
       "      <th>Weight loss</th>\n",
       "    </tr>\n",
       "  </thead>\n",
       "  <tbody>\n",
       "    <tr>\n",
       "      <th>0</th>\n",
       "      <td>asS</td>\n",
       "      <td>0</td>\n",
       "      <td>0</td>\n",
       "      <td>0</td>\n",
       "      <td>0</td>\n",
       "      <td>0</td>\n",
       "      <td>0</td>\n",
       "      <td>0</td>\n",
       "      <td>0</td>\n",
       "      <td>0</td>\n",
       "      <td>...</td>\n",
       "      <td>0</td>\n",
       "      <td>0</td>\n",
       "      <td>0</td>\n",
       "      <td>0</td>\n",
       "      <td>0</td>\n",
       "      <td>0</td>\n",
       "      <td>0</td>\n",
       "      <td>0</td>\n",
       "      <td>0</td>\n",
       "      <td>0</td>\n",
       "    </tr>\n",
       "  </tbody>\n",
       "</table>\n",
       "<p>1 rows × 132 columns</p>\n",
       "</div>"
      ],
      "text/plain": [
       "  Name Abdominal swelling (Stomach swelling) Alcohol abuse  \\\n",
       "0  asS                                     0             0   \n",
       "\n",
       "  Amenorrhea (No menstruation) Anxiety (Nervousness) Arm ache or pain  \\\n",
       "0                            0                     0                0   \n",
       "\n",
       "  Arm itching Arm numbness (paresthesias) Arm redness Arm swelling  \\\n",
       "0           0                           0           0            0   \n",
       "\n",
       "      ...     Upper abdominal pain Urinary retention (Inability to urinate)  \\\n",
       "0     ...                        0                                        0   \n",
       "\n",
       "  Vaginal bleeding Vaginal pain Vertigo (Room spinning)  \\\n",
       "0                0            0                       0   \n",
       "\n",
       "  Visual flashing lights Visual problems Vomiting  \\\n",
       "0                      0               0        0   \n",
       "\n",
       "  Vomiting coffee ground material Weight loss  \n",
       "0                               0           0  \n",
       "\n",
       "[1 rows x 132 columns]"
      ]
     },
     "execution_count": 86,
     "metadata": {},
     "output_type": "execute_result"
    }
   ],
   "source": [
    "similarilty_index.head()"
   ]
  },
  {
   "cell_type": "code",
   "execution_count": 87,
   "metadata": {
    "collapsed": true
   },
   "outputs": [],
   "source": [
    "similarilty_index = pd.DataFrame(columns=[\"Name\"]+sym_list)"
   ]
  },
  {
   "cell_type": "code",
   "execution_count": 88,
   "metadata": {
    "collapsed": false
   },
   "outputs": [
    {
     "data": {
      "text/html": [
       "<div>\n",
       "<table border=\"1\" class=\"dataframe\">\n",
       "  <thead>\n",
       "    <tr style=\"text-align: right;\">\n",
       "      <th></th>\n",
       "      <th>Name</th>\n",
       "      <th>Abdominal swelling (Stomach swelling)</th>\n",
       "      <th>Alcohol abuse</th>\n",
       "      <th>Amenorrhea (No menstruation)</th>\n",
       "      <th>Anxiety (Nervousness)</th>\n",
       "      <th>Arm ache or pain</th>\n",
       "      <th>Arm itching</th>\n",
       "      <th>Arm numbness (paresthesias)</th>\n",
       "      <th>Arm redness</th>\n",
       "      <th>Arm swelling</th>\n",
       "      <th>...</th>\n",
       "      <th>Upper abdominal pain</th>\n",
       "      <th>Urinary retention (Inability to urinate)</th>\n",
       "      <th>Vaginal bleeding</th>\n",
       "      <th>Vaginal pain</th>\n",
       "      <th>Vertigo (Room spinning)</th>\n",
       "      <th>Visual flashing lights</th>\n",
       "      <th>Visual problems</th>\n",
       "      <th>Vomiting</th>\n",
       "      <th>Vomiting coffee ground material</th>\n",
       "      <th>Weight loss</th>\n",
       "    </tr>\n",
       "  </thead>\n",
       "  <tbody>\n",
       "  </tbody>\n",
       "</table>\n",
       "<p>0 rows × 132 columns</p>\n",
       "</div>"
      ],
      "text/plain": [
       "Empty DataFrame\n",
       "Columns: [Name, Abdominal swelling (Stomach swelling), Alcohol abuse, Amenorrhea (No menstruation), Anxiety (Nervousness), Arm ache or pain, Arm itching, Arm numbness (paresthesias), Arm redness, Arm swelling, Armpit pain, Back ache or pain, Bleeding gums, Bleeding tendency, Blister (Pocket of fluid), Blood in urine (Hematuria), Blood in vomit, Blurry vision, Change in behavior, Chest pain, Chest pressure, Chills, Choking, Confusion, Confusion and headache, Cough, Delusions or hallucinations, Depressed, Dizziness, Double vision (Diplopia), Ear pressure, Ear swelling, Eye floaters, Eye pain (Irritation), Eye redness, Eye swelling, Face numbness (paresthesias), Facial droop (weakness), Facial pain, Failure to thrive, Fainting, Fever, Fever in the returning traveler, Fever of unknown origin, Flank pain, Foot itching, Foot numbness (paresthesias), Foot redness, Frequent urination (Frequency), General weakness, Hand itching, Hand numbness (paresthesias), Hand redness, Headache, Headache and weakness, Heart pulsations and palpitations, Hemoptysis (Coughing blood), Hives, Hot flashes, Hypothermia (Low temperature), Impotence, Inconsolable baby, Incontinence (leaking urine), Increased facial hair, Infertility (Female), Insomnia (Trouble sleeping), Itchy rash (Pruritic rash), Jaundice (Yellowing skin), Jaw pain, Kidney pain (Flank pain), Learning difficulties, Leg ache or pain, Leg numbness (paresthesias), Lethargy (Sluggishness), Lip swelling, Loss of balance, Low back ache or pain, Low heart rate, Lower abdominal pain, Mouth pain, Mouth swelling, Mouth ulcers, Muscle pain, Muscle spasm, Nasal bleeding, Nasal congestion, Neck ache or pain, Neck swelling, Nipple discharge, Numbness, Obesity, Overdose, Pain in the ear, Pain or soreness of breast, Painful gums, Painful rash, Poisoning, Pustule (Collection of pus), Rash, Ringing in ears (Tinnitus), ...]\n",
       "Index: []\n",
       "\n",
       "[0 rows x 132 columns]"
      ]
     },
     "execution_count": 88,
     "metadata": {},
     "output_type": "execute_result"
    }
   ],
   "source": [
    "similarilty_index.head()"
   ]
  },
  {
   "cell_type": "code",
   "execution_count": 89,
   "metadata": {
    "collapsed": false
   },
   "outputs": [
    {
     "data": {
      "text/html": [
       "<div>\n",
       "<table border=\"1\" class=\"dataframe\">\n",
       "  <thead>\n",
       "    <tr style=\"text-align: right;\">\n",
       "      <th></th>\n",
       "      <th>Name</th>\n",
       "      <th>Address</th>\n",
       "      <th>Diagnosis</th>\n",
       "      <th>Symptom</th>\n",
       "    </tr>\n",
       "  </thead>\n",
       "  <tbody>\n",
       "    <tr>\n",
       "      <th>74</th>\n",
       "      <td>Dr Michael Davis</td>\n",
       "      <td>Russellbury</td>\n",
       "      <td>Cancer tumor</td>\n",
       "      <td>Fever of unknown origin,Swelling of both legs,...</td>\n",
       "    </tr>\n",
       "    <tr>\n",
       "      <th>75</th>\n",
       "      <td>Dr Crystal Davis</td>\n",
       "      <td>Lake Kristi</td>\n",
       "      <td>Langerhans cell histiocytosis Histiocytosis X</td>\n",
       "      <td>Arm ache or pain,Leg ache or pain,Shortness of...</td>\n",
       "    </tr>\n",
       "  </tbody>\n",
       "</table>\n",
       "</div>"
      ],
      "text/plain": [
       "                Name      Address  \\\n",
       "74  Dr Michael Davis  Russellbury   \n",
       "75  Dr Crystal Davis  Lake Kristi   \n",
       "\n",
       "                                        Diagnosis  \\\n",
       "74                                   Cancer tumor   \n",
       "75  Langerhans cell histiocytosis Histiocytosis X   \n",
       "\n",
       "                                              Symptom  \n",
       "74  Fever of unknown origin,Swelling of both legs,...  \n",
       "75  Arm ache or pain,Leg ache or pain,Shortness of...  "
      ]
     },
     "execution_count": 89,
     "metadata": {},
     "output_type": "execute_result"
    }
   ],
   "source": [
    "main_df.loc[74:75]"
   ]
  },
  {
   "cell_type": "code",
   "execution_count": 90,
   "metadata": {
    "collapsed": false
   },
   "outputs": [],
   "source": [
    "k = 0\n",
    "for i in main_df.itertuples():\n",
    "    k += 1\n",
    "    temp = [0] * dimensions\n",
    "    for j in i.Symptom.split(','):\n",
    "        temp = list(map(add, temp, sym_to_index(j)))\n",
    "    df = pd.DataFrame([i.Name]+temp, index=main_index)\n",
    "    similarilty_index = pd.concat([similarilty_index, df.transpose()], axis=0)"
   ]
  },
  {
   "cell_type": "code",
   "execution_count": 91,
   "metadata": {
    "collapsed": false
   },
   "outputs": [],
   "source": [
    "X = similarilty_index.set_index('Name').as_matrix()"
   ]
  },
  {
   "cell_type": "markdown",
   "metadata": {},
   "source": [
    "# Ball Tree Algo in sklearn"
   ]
  },
  {
   "cell_type": "code",
   "execution_count": 92,
   "metadata": {
    "collapsed": true
   },
   "outputs": [],
   "source": [
    "clf = NearestNeighbors(n_neighbors=2, algorithm='ball_tree')"
   ]
  },
  {
   "cell_type": "code",
   "execution_count": 93,
   "metadata": {
    "collapsed": false
   },
   "outputs": [],
   "source": [
    "nbrs = clf.fit(X)"
   ]
  },
  {
   "cell_type": "code",
   "execution_count": 94,
   "metadata": {
    "collapsed": false
   },
   "outputs": [
    {
     "name": "stderr",
     "output_type": "stream",
     "text": [
      "/usr/local/lib/python3.5/dist-packages/sklearn/utils/validation.py:395: DeprecationWarning: Passing 1d arrays as data is deprecated in 0.17 and will raise ValueError in 0.19. Reshape your data either using X.reshape(-1, 1) if your data has a single feature or X.reshape(1, -1) if it contains a single sample.\n",
      "  DeprecationWarning)\n"
     ]
    }
   ],
   "source": [
    "dist, ind = nbrs.kneighbors(X[2])"
   ]
  },
  {
   "cell_type": "code",
   "execution_count": 95,
   "metadata": {
    "collapsed": false
   },
   "outputs": [
    {
     "name": "stdout",
     "output_type": "stream",
     "text": [
      "[[ 0.          1.41421356]] [[ 2 80]]\n"
     ]
    }
   ],
   "source": [
    "print(dist, ind)"
   ]
  },
  {
   "cell_type": "markdown",
   "metadata": {},
   "source": [
    "### Find doctor who happened similar case"
   ]
  },
  {
   "cell_type": "code",
   "execution_count": 96,
   "metadata": {
    "collapsed": false
   },
   "outputs": [
    {
     "data": {
      "text/plain": [
       "'Dr Kyle Banks'"
      ]
     },
     "execution_count": 96,
     "metadata": {},
     "output_type": "execute_result"
    }
   ],
   "source": [
    "similarilty_index.iloc[ind[0][1]].Name"
   ]
  },
  {
   "cell_type": "markdown",
   "metadata": {},
   "source": [
    "# KD Tree"
   ]
  },
  {
   "cell_type": "code",
   "execution_count": 97,
   "metadata": {
    "collapsed": false
   },
   "outputs": [],
   "source": [
    "kdt = KDTree(X, leaf_size=30, metric='euclidean')"
   ]
  },
  {
   "cell_type": "code",
   "execution_count": 98,
   "metadata": {
    "collapsed": false
   },
   "outputs": [
    {
     "name": "stderr",
     "output_type": "stream",
     "text": [
      "/usr/local/lib/python3.5/dist-packages/sklearn/utils/validation.py:395: DeprecationWarning: Passing 1d arrays as data is deprecated in 0.17 and will raise ValueError in 0.19. Reshape your data either using X.reshape(-1, 1) if your data has a single feature or X.reshape(1, -1) if it contains a single sample.\n",
      "  DeprecationWarning)\n"
     ]
    }
   ],
   "source": [
    "dist, ind = kdt.query(X[2], k=2, return_distance = True)  "
   ]
  },
  {
   "cell_type": "code",
   "execution_count": 99,
   "metadata": {
    "collapsed": false
   },
   "outputs": [
    {
     "name": "stdout",
     "output_type": "stream",
     "text": [
      "[[ 0.          1.41421356]] [[ 2 80]]\n"
     ]
    }
   ],
   "source": [
    "print(dist, ind)"
   ]
  },
  {
   "cell_type": "code",
   "execution_count": 133,
   "metadata": {
    "collapsed": false
   },
   "outputs": [
    {
     "data": {
      "text/plain": [
       "Name                                        Dr Kyle Banks\n",
       "Abdominal swelling (Stomach swelling)                   0\n",
       "Alcohol abuse                                           0\n",
       "Amenorrhea (No menstruation)                            0\n",
       "Anxiety (Nervousness)                                   0\n",
       "Arm ache or pain                                        0\n",
       "Arm itching                                             0\n",
       "Arm numbness (paresthesias)                             0\n",
       "Arm redness                                             0\n",
       "Arm swelling                                            0\n",
       "Armpit pain                                             0\n",
       "Back ache or pain                                       0\n",
       "Bleeding gums                                           0\n",
       "Bleeding tendency                                       0\n",
       "Blister (Pocket of fluid)                               0\n",
       "Blood in urine (Hematuria)                              0\n",
       "Blood in vomit                                          0\n",
       "Blurry vision                                           0\n",
       "Change in behavior                                      0\n",
       "Chest pain                                              0\n",
       "Chest pressure                                          0\n",
       "Chills                                                  0\n",
       "Choking                                                 0\n",
       "Confusion                                               0\n",
       "Confusion and headache                                  0\n",
       "Cough                                                   0\n",
       "Delusions or hallucinations                             0\n",
       "Depressed                                               0\n",
       "Dizziness                                               0\n",
       "Double vision (Diplopia)                                0\n",
       "                                                ...      \n",
       "Shoulder ache or pain                                   0\n",
       "Sinus pain and pressure                                 0\n",
       "Skin itching                                            0\n",
       "Skin sores                                              0\n",
       "Skin swelling                                           0\n",
       "Snoring                                                 0\n",
       "Sore throat                                             0\n",
       "Speech problem                                          0\n",
       "Steatorrhea (Excess fat in stool)                       0\n",
       "Stomach and abdominal pain                              0\n",
       "Substance abuse (Drug abuse)                            0\n",
       "Swallowing problem (Dysphagia)                          0\n",
       "Swelling of both legs                                   0\n",
       "Swollen gums                                            0\n",
       "Swollen lymph nodes (Large lymph nodes)                 0\n",
       "Throat pain                                             0\n",
       "Tired                                                   0\n",
       "Trauma                                                  0\n",
       "Tremors                                                 0\n",
       "Unsteady gait (Trouble walking)                         0\n",
       "Upper abdominal pain                                    0\n",
       "Urinary retention (Inability to urinate)                0\n",
       "Vaginal bleeding                                        0\n",
       "Vaginal pain                                            0\n",
       "Vertigo (Room spinning)                                 0\n",
       "Visual flashing lights                                  0\n",
       "Visual problems                                         0\n",
       "Vomiting                                                0\n",
       "Vomiting coffee ground material                         0\n",
       "Weight loss                                             0\n",
       "Name: 0, dtype: object"
      ]
     },
     "execution_count": 133,
     "metadata": {},
     "output_type": "execute_result"
    }
   ],
   "source": [
    "similarilty_index.iloc[ind[0][1]]"
   ]
  },
  {
   "cell_type": "code",
   "execution_count": 101,
   "metadata": {
    "collapsed": true
   },
   "outputs": [],
   "source": [
    "j_data = [{\"_id\":\"5a1a28fbec0fec3b29b2f2b0\",\"Diagnosis\":\"Influenza seasonal flu\",\"curhash\":\"b75f379009ff395ca928f24de8200f1f66d8a253a1fe3ddd22e03ae08944d99c2c62f4c9ac956403c278c1c45d171479\",\"Email\":\"CrystalDavis@gmail.com\",\"head\":\"20f22df8351a4bef967fbd4103e40a61ab5650d00a434fc45e3772806d550d3abea1364014501b3194eee46be0424967\",\"nexthash\":\"76152f292951e495d10396c6790c3530f906b0a46916a7e45b8c4bb8a361c6d96d73f19260e338aad1e4e8f90ae9062c\",\"Name\":\"Dr Crystal Davis\",\"Address\":\"Parsonschester\",\"Symptom\":\"Chills,Fever,Muscle pain,Tired,Sore throat,Cough,Nasal congestion,Headache,Shortness of breath,Vomiting,Throat pain,Chest pain\"},{\"_id\":\"5a1a28fbec0fec3b29b2f2ea\",\"Diagnosis\":\"Lymphangitis lymph tissue inflammation\",\"curhash\":\"06e2217b652de89b16acf4f52dde0a7c3cd765ad90beebed0f752d5bdfe1292937b38014d4c77ea69ef31a4d7d9542da\",\"Email\":\"KyleBanks@gmail.com\",\"head\":\"ec1524a5d891433eb3ce6846ef1910efdb6f5a7a36554a23286e236865bb249f2fa8753202d48b5e953eff434818488d\",\"nexthash\":\"e636e9871ae759205313b89966628e35c6e9942aeb50e421b79c7311ccf6983f57974a02192cf791ff9687f6f80edfaf\",\"Name\":\"Dr Kyle Banks\",\"Address\":\"Port Rachel\",\"Symptom\":\"Chills,Arm swelling,Armpit pain,Pain or soreness of breast,Pain in the ear,Rash,Skin sores\"}]"
   ]
  },
  {
   "cell_type": "code",
   "execution_count": 111,
   "metadata": {
    "collapsed": false
   },
   "outputs": [],
   "source": [
    "test_df = pd.DataFrame(j_data, columns=j_data[0].keys())"
   ]
  },
  {
   "cell_type": "code",
   "execution_count": 112,
   "metadata": {
    "collapsed": false
   },
   "outputs": [
    {
     "data": {
      "text/html": [
       "<div>\n",
       "<table border=\"1\" class=\"dataframe\">\n",
       "  <thead>\n",
       "    <tr style=\"text-align: right;\">\n",
       "      <th></th>\n",
       "      <th>nexthash</th>\n",
       "      <th>Symptom</th>\n",
       "      <th>Address</th>\n",
       "      <th>head</th>\n",
       "      <th>curhash</th>\n",
       "      <th>Diagnosis</th>\n",
       "      <th>_id</th>\n",
       "      <th>Name</th>\n",
       "      <th>Email</th>\n",
       "    </tr>\n",
       "  </thead>\n",
       "  <tbody>\n",
       "    <tr>\n",
       "      <th>0</th>\n",
       "      <td>76152f292951e495d10396c6790c3530f906b0a46916a7...</td>\n",
       "      <td>Chills,Fever,Muscle pain,Tired,Sore throat,Cou...</td>\n",
       "      <td>Parsonschester</td>\n",
       "      <td>20f22df8351a4bef967fbd4103e40a61ab5650d00a434f...</td>\n",
       "      <td>b75f379009ff395ca928f24de8200f1f66d8a253a1fe3d...</td>\n",
       "      <td>Influenza seasonal flu</td>\n",
       "      <td>5a1a28fbec0fec3b29b2f2b0</td>\n",
       "      <td>Dr Crystal Davis</td>\n",
       "      <td>CrystalDavis@gmail.com</td>\n",
       "    </tr>\n",
       "    <tr>\n",
       "      <th>1</th>\n",
       "      <td>e636e9871ae759205313b89966628e35c6e9942aeb50e4...</td>\n",
       "      <td>Chills,Arm swelling,Armpit pain,Pain or sorene...</td>\n",
       "      <td>Port Rachel</td>\n",
       "      <td>ec1524a5d891433eb3ce6846ef1910efdb6f5a7a36554a...</td>\n",
       "      <td>06e2217b652de89b16acf4f52dde0a7c3cd765ad90beeb...</td>\n",
       "      <td>Lymphangitis lymph tissue inflammation</td>\n",
       "      <td>5a1a28fbec0fec3b29b2f2ea</td>\n",
       "      <td>Dr Kyle Banks</td>\n",
       "      <td>KyleBanks@gmail.com</td>\n",
       "    </tr>\n",
       "  </tbody>\n",
       "</table>\n",
       "</div>"
      ],
      "text/plain": [
       "                                            nexthash  \\\n",
       "0  76152f292951e495d10396c6790c3530f906b0a46916a7...   \n",
       "1  e636e9871ae759205313b89966628e35c6e9942aeb50e4...   \n",
       "\n",
       "                                             Symptom         Address  \\\n",
       "0  Chills,Fever,Muscle pain,Tired,Sore throat,Cou...  Parsonschester   \n",
       "1  Chills,Arm swelling,Armpit pain,Pain or sorene...     Port Rachel   \n",
       "\n",
       "                                                head  \\\n",
       "0  20f22df8351a4bef967fbd4103e40a61ab5650d00a434f...   \n",
       "1  ec1524a5d891433eb3ce6846ef1910efdb6f5a7a36554a...   \n",
       "\n",
       "                                             curhash  \\\n",
       "0  b75f379009ff395ca928f24de8200f1f66d8a253a1fe3d...   \n",
       "1  06e2217b652de89b16acf4f52dde0a7c3cd765ad90beeb...   \n",
       "\n",
       "                                Diagnosis                       _id  \\\n",
       "0                  Influenza seasonal flu  5a1a28fbec0fec3b29b2f2b0   \n",
       "1  Lymphangitis lymph tissue inflammation  5a1a28fbec0fec3b29b2f2ea   \n",
       "\n",
       "               Name                   Email  \n",
       "0  Dr Crystal Davis  CrystalDavis@gmail.com  \n",
       "1     Dr Kyle Banks     KyleBanks@gmail.com  "
      ]
     },
     "execution_count": 112,
     "metadata": {},
     "output_type": "execute_result"
    }
   ],
   "source": [
    "test_df.head()"
   ]
  },
  {
   "cell_type": "code",
   "execution_count": 113,
   "metadata": {
    "collapsed": true
   },
   "outputs": [],
   "source": [
    "test_df = test_df[['Name', 'Address', 'Diagnosis', 'Symptom']]"
   ]
  },
  {
   "cell_type": "code",
   "execution_count": 114,
   "metadata": {
    "collapsed": false
   },
   "outputs": [
    {
     "data": {
      "text/html": [
       "<div>\n",
       "<table border=\"1\" class=\"dataframe\">\n",
       "  <thead>\n",
       "    <tr style=\"text-align: right;\">\n",
       "      <th></th>\n",
       "      <th>Name</th>\n",
       "      <th>Address</th>\n",
       "      <th>Diagnosis</th>\n",
       "      <th>Symptom</th>\n",
       "    </tr>\n",
       "  </thead>\n",
       "  <tbody>\n",
       "    <tr>\n",
       "      <th>0</th>\n",
       "      <td>Dr Crystal Davis</td>\n",
       "      <td>Parsonschester</td>\n",
       "      <td>Influenza seasonal flu</td>\n",
       "      <td>Chills,Fever,Muscle pain,Tired,Sore throat,Cou...</td>\n",
       "    </tr>\n",
       "    <tr>\n",
       "      <th>1</th>\n",
       "      <td>Dr Kyle Banks</td>\n",
       "      <td>Port Rachel</td>\n",
       "      <td>Lymphangitis lymph tissue inflammation</td>\n",
       "      <td>Chills,Arm swelling,Armpit pain,Pain or sorene...</td>\n",
       "    </tr>\n",
       "  </tbody>\n",
       "</table>\n",
       "</div>"
      ],
      "text/plain": [
       "               Name         Address                               Diagnosis  \\\n",
       "0  Dr Crystal Davis  Parsonschester                  Influenza seasonal flu   \n",
       "1     Dr Kyle Banks     Port Rachel  Lymphangitis lymph tissue inflammation   \n",
       "\n",
       "                                             Symptom  \n",
       "0  Chills,Fever,Muscle pain,Tired,Sore throat,Cou...  \n",
       "1  Chills,Arm swelling,Armpit pain,Pain or sorene...  "
      ]
     },
     "execution_count": 114,
     "metadata": {},
     "output_type": "execute_result"
    }
   ],
   "source": [
    "test_df"
   ]
  },
  {
   "cell_type": "code",
   "execution_count": 117,
   "metadata": {
    "collapsed": true
   },
   "outputs": [],
   "source": [
    "def convert(df):\n",
    "    result = pd.DataFrame(columns=main_index)\n",
    "    for i in df.itertuples():\n",
    "        temp = [0] * dimensions\n",
    "        for j in i.Symptom.split(','):\n",
    "            temp = list(map(add, temp, sym_to_index(j)))\n",
    "        df = pd.DataFrame([i.Name]+temp, index=main_index)\n",
    "        result = pd.concat([result, df.transpose()], axis=0)\n",
    "    return result"
   ]
  },
  {
   "cell_type": "code",
   "execution_count": 120,
   "metadata": {
    "collapsed": false
   },
   "outputs": [],
   "source": [
    "new_data = convert(test_df)"
   ]
  },
  {
   "cell_type": "code",
   "execution_count": 123,
   "metadata": {
    "collapsed": false
   },
   "outputs": [],
   "source": [
    "nbr = clf.fit(new_data.set_index('Name').as_matrix())"
   ]
  },
  {
   "cell_type": "code",
   "execution_count": 124,
   "metadata": {
    "collapsed": true
   },
   "outputs": [],
   "source": [
    "check = pd.read_csv(\"final_mock_data.csv\")"
   ]
  },
  {
   "cell_type": "code",
   "execution_count": 125,
   "metadata": {
    "collapsed": true
   },
   "outputs": [],
   "source": [
    "def convert_to_cluster(df):\n",
    "    result = pd.DataFrame(columns=main_index)\n",
    "    for i in df.itertuples():\n",
    "        temp = [0] * dimensions\n",
    "        for j in i.Symptom.split(','):\n",
    "            temp = list(map(add, temp, sym_to_index(j)))\n",
    "        df = pd.DataFrame([i.Name]+temp, index=main_index)\n",
    "        result = pd.concat([result, df.transpose()], axis=0)\n",
    "    return result\n"
   ]
  },
  {
   "cell_type": "code",
   "execution_count": 130,
   "metadata": {
    "collapsed": false
   },
   "outputs": [],
   "source": [
    "pp = convert_to_cluster(check)"
   ]
  },
  {
   "cell_type": "code",
   "execution_count": 129,
   "metadata": {
    "collapsed": false
   },
   "outputs": [],
   "source": [
    "def cluster(similarilty_index):\n",
    "    X = similarilty_index.set_index('Name').as_matrix()\n",
    "    nbrs = clf.fit(X)\n",
    "    dist, ind = nbrs.kneighbors(X[2])\n",
    "    print(dist, ind)\n",
    "    return similarilty_index.iloc[ind[0][1]].Name"
   ]
  },
  {
   "cell_type": "code",
   "execution_count": 131,
   "metadata": {
    "collapsed": false
   },
   "outputs": [
    {
     "name": "stderr",
     "output_type": "stream",
     "text": [
      "/usr/local/lib/python3.5/dist-packages/sklearn/utils/validation.py:395: DeprecationWarning: Passing 1d arrays as data is deprecated in 0.17 and will raise ValueError in 0.19. Reshape your data either using X.reshape(-1, 1) if your data has a single feature or X.reshape(1, -1) if it contains a single sample.\n",
      "  DeprecationWarning)\n"
     ]
    },
    {
     "name": "stdout",
     "output_type": "stream",
     "text": [
      "[[ 0.          1.41421356]] [[ 2 80]]\n"
     ]
    },
    {
     "data": {
      "text/plain": [
       "'Dr Kyle Banks'"
      ]
     },
     "execution_count": 131,
     "metadata": {},
     "output_type": "execute_result"
    }
   ],
   "source": [
    "cluster(pp)"
   ]
  },
  {
   "cell_type": "code",
   "execution_count": null,
   "metadata": {
    "collapsed": true
   },
   "outputs": [],
   "source": []
  }
 ],
 "metadata": {
  "kernelspec": {
   "display_name": "Python 3",
   "language": "python",
   "name": "python3"
  },
  "language_info": {
   "codemirror_mode": {
    "name": "ipython",
    "version": 3
   },
   "file_extension": ".py",
   "mimetype": "text/x-python",
   "name": "python",
   "nbconvert_exporter": "python",
   "pygments_lexer": "ipython3",
   "version": "3.5.2"
  }
 },
 "nbformat": 4,
 "nbformat_minor": 2
}
