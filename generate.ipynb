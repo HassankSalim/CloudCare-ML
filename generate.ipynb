{
 "cells": [
  {
   "cell_type": "code",
   "execution_count": 1,
   "metadata": {
    "collapsed": true
   },
   "outputs": [],
   "source": [
    "import pandas as pd\n",
    "import numpy as np\n",
    "from faker import Faker"
   ]
  },
  {
   "cell_type": "code",
   "execution_count": 97,
   "metadata": {
    "collapsed": false
   },
   "outputs": [],
   "source": [
    "sym3_frame =  pd.read_csv(\"sym_3.csv\", index_col=\"_id\")\n",
    "sym_did_frame = pd.read_csv(\"diffsydiw.csv\")\n",
    "diag_frame = pd.read_csv(\"diagn_title.csv\", index_col=\"id\")\n",
    "fake = Faker()"
   ]
  },
  {
   "cell_type": "code",
   "execution_count": 67,
   "metadata": {
    "collapsed": false
   },
   "outputs": [
    {
     "data": {
      "text/plain": [
       "295"
      ]
     },
     "execution_count": 67,
     "metadata": {},
     "output_type": "execute_result"
    }
   ],
   "source": [
    "sym3_frame._id.max()"
   ]
  },
  {
   "cell_type": "code",
   "execution_count": 125,
   "metadata": {
    "collapsed": false
   },
   "outputs": [
    {
     "data": {
      "text/html": [
       "<div>\n",
       "<table border=\"1\" class=\"dataframe\">\n",
       "  <thead>\n",
       "    <tr style=\"text-align: right;\">\n",
       "      <th></th>\n",
       "      <th>symptom</th>\n",
       "    </tr>\n",
       "    <tr>\n",
       "      <th>_id</th>\n",
       "      <th></th>\n",
       "    </tr>\n",
       "  </thead>\n",
       "  <tbody>\n",
       "    <tr>\n",
       "      <th>1</th>\n",
       "      <td>Upper abdominal pain</td>\n",
       "    </tr>\n",
       "    <tr>\n",
       "      <th>2</th>\n",
       "      <td>Lower abdominal pain</td>\n",
       "    </tr>\n",
       "    <tr>\n",
       "      <th>4</th>\n",
       "      <td>Alcohol abuse</td>\n",
       "    </tr>\n",
       "    <tr>\n",
       "      <th>5</th>\n",
       "      <td>Anxiety (Nervousness)</td>\n",
       "    </tr>\n",
       "    <tr>\n",
       "      <th>6</th>\n",
       "      <td>Arm ache or pain</td>\n",
       "    </tr>\n",
       "  </tbody>\n",
       "</table>\n",
       "</div>"
      ],
      "text/plain": [
       "                   symptom\n",
       "_id                       \n",
       "1     Upper abdominal pain\n",
       "2     Lower abdominal pain\n",
       "4            Alcohol abuse\n",
       "5    Anxiety (Nervousness)\n",
       "6         Arm ache or pain"
      ]
     },
     "execution_count": 125,
     "metadata": {},
     "output_type": "execute_result"
    }
   ],
   "source": [
    "sym3_frame.head()"
   ]
  },
  {
   "cell_type": "code",
   "execution_count": 132,
   "metadata": {
    "collapsed": false
   },
   "outputs": [
    {
     "data": {
      "text/plain": [
       "'Upper abdominal pain'"
      ]
     },
     "execution_count": 132,
     "metadata": {},
     "output_type": "execute_result"
    }
   ],
   "source": [
    "sym3_frame.loc[1].symptom"
   ]
  },
  {
   "cell_type": "code",
   "execution_count": 46,
   "metadata": {
    "collapsed": false
   },
   "outputs": [
    {
     "data": {
      "text/html": [
       "<div>\n",
       "<table border=\"1\" class=\"dataframe\">\n",
       "  <thead>\n",
       "    <tr style=\"text-align: right;\">\n",
       "      <th></th>\n",
       "      <th>syd</th>\n",
       "      <th>did</th>\n",
       "      <th>wei</th>\n",
       "    </tr>\n",
       "  </thead>\n",
       "  <tbody>\n",
       "    <tr>\n",
       "      <th>0</th>\n",
       "      <td>1.0</td>\n",
       "      <td>163.0</td>\n",
       "      <td>2.0</td>\n",
       "    </tr>\n",
       "    <tr>\n",
       "      <th>1</th>\n",
       "      <td>1.0</td>\n",
       "      <td>164.0</td>\n",
       "      <td>2.0</td>\n",
       "    </tr>\n",
       "    <tr>\n",
       "      <th>2</th>\n",
       "      <td>1.0</td>\n",
       "      <td>165.0</td>\n",
       "      <td>1.0</td>\n",
       "    </tr>\n",
       "    <tr>\n",
       "      <th>3</th>\n",
       "      <td>1.0</td>\n",
       "      <td>187.0</td>\n",
       "      <td>2.0</td>\n",
       "    </tr>\n",
       "    <tr>\n",
       "      <th>4</th>\n",
       "      <td>1.0</td>\n",
       "      <td>306.0</td>\n",
       "      <td>2.0</td>\n",
       "    </tr>\n",
       "  </tbody>\n",
       "</table>\n",
       "</div>"
      ],
      "text/plain": [
       "   syd    did  wei\n",
       "0  1.0  163.0  2.0\n",
       "1  1.0  164.0  2.0\n",
       "2  1.0  165.0  1.0\n",
       "3  1.0  187.0  2.0\n",
       "4  1.0  306.0  2.0"
      ]
     },
     "execution_count": 46,
     "metadata": {},
     "output_type": "execute_result"
    }
   ],
   "source": [
    "sym_did_frame.()"
   ]
  },
  {
   "cell_type": "code",
   "execution_count": 66,
   "metadata": {
    "collapsed": false
   },
   "outputs": [
    {
     "data": {
      "text/plain": [
       "306.0"
      ]
     },
     "execution_count": 66,
     "metadata": {},
     "output_type": "execute_result"
    }
   ],
   "source": [
    "sym_did_frame.syd.max()"
   ]
  },
  {
   "cell_type": "code",
   "execution_count": 98,
   "metadata": {
    "collapsed": false
   },
   "outputs": [
    {
     "data": {
      "text/html": [
       "<div>\n",
       "<table border=\"1\" class=\"dataframe\">\n",
       "  <thead>\n",
       "    <tr style=\"text-align: right;\">\n",
       "      <th></th>\n",
       "      <th>title</th>\n",
       "    </tr>\n",
       "    <tr>\n",
       "      <th>id</th>\n",
       "      <th></th>\n",
       "    </tr>\n",
       "  </thead>\n",
       "  <tbody>\n",
       "    <tr>\n",
       "      <th>2.0</th>\n",
       "      <td>Abdominal swelling</td>\n",
       "    </tr>\n",
       "    <tr>\n",
       "      <th>3.0</th>\n",
       "      <td>Abdominal trauma</td>\n",
       "    </tr>\n",
       "    <tr>\n",
       "      <th>4.0</th>\n",
       "      <td>Abrasions\u000b",
       " (scrapes)</td>\n",
       "    </tr>\n",
       "    <tr>\n",
       "      <th>5.0</th>\n",
       "      <td>ACE inhibitor induced cough\u000b",
       "blood pressure med...</td>\n",
       "    </tr>\n",
       "    <tr>\n",
       "      <th>6.0</th>\n",
       "      <td>acetaminophen overdose\u000b",
       "Adverse reaction to ace...</td>\n",
       "    </tr>\n",
       "  </tbody>\n",
       "</table>\n",
       "</div>"
      ],
      "text/plain": [
       "                                                 title\n",
       "id                                                    \n",
       "2.0                                 Abdominal swelling\n",
       "3.0                                   Abdominal trauma\n",
       "4.0                               Abrasions\n",
       " (scrapes)\n",
       "5.0  ACE inhibitor induced cough\n",
       "blood pressure med...\n",
       "6.0  acetaminophen overdose\n",
       "Adverse reaction to ace..."
      ]
     },
     "execution_count": 98,
     "metadata": {},
     "output_type": "execute_result"
    }
   ],
   "source": [
    "diag_frame.head()"
   ]
  },
  {
   "cell_type": "code",
   "execution_count": 6,
   "metadata": {
    "collapsed": false
   },
   "outputs": [],
   "source": [
    "syms = sym3_frame.symptom"
   ]
  },
  {
   "cell_type": "code",
   "execution_count": 9,
   "metadata": {
    "collapsed": false
   },
   "outputs": [
    {
     "data": {
      "text/plain": [
       "array(['General weakness', 'Impotence', 'Ear pressure',\n",
       "       'Leg numbness (paresthesias)'], dtype=object)"
      ]
     },
     "execution_count": 9,
     "metadata": {},
     "output_type": "execute_result"
    }
   ],
   "source": [
    "np.random.choice(syms, size=[4])"
   ]
  },
  {
   "cell_type": "code",
   "execution_count": 3,
   "metadata": {
    "collapsed": true
   },
   "outputs": [],
   "source": [
    "def generate_doc(n):\n",
    "    doc_list = []\n",
    "    for _ in range(n):\n",
    "        doc_list.append(\"Dr \"+fake.name())\n",
    "    return doc_list    "
   ]
  },
  {
   "cell_type": "code",
   "execution_count": 5,
   "metadata": {
    "collapsed": false
   },
   "outputs": [],
   "source": [
    "rand_doc_list = generate_doc(10)"
   ]
  },
  {
   "cell_type": "code",
   "execution_count": 20,
   "metadata": {
    "collapsed": false
   },
   "outputs": [
    {
     "data": {
      "text/plain": [
       "'New Raymondland'"
      ]
     },
     "execution_count": 20,
     "metadata": {},
     "output_type": "execute_result"
    }
   ],
   "source": [
    "fake.city()"
   ]
  },
  {
   "cell_type": "code",
   "execution_count": 24,
   "metadata": {
    "collapsed": true
   },
   "outputs": [],
   "source": [
    "def generate_address(n):\n",
    "    addr_list = []\n",
    "    for _ in range(n):\n",
    "        addr_list.append(fake.city())\n",
    "    return addr_list    "
   ]
  },
  {
   "cell_type": "code",
   "execution_count": 27,
   "metadata": {
    "collapsed": false
   },
   "outputs": [],
   "source": [
    "rand_addr = generate_address(10)"
   ]
  },
  {
   "cell_type": "code",
   "execution_count": 41,
   "metadata": {
    "collapsed": false
   },
   "outputs": [],
   "source": [
    "def generate_sym_in_bin(n):\n",
    "    sym = []\n",
    "    for _ in range(n):\n",
    "        sym.append(np.random.choice([1, 0], size=(100,), p=[0.065, 0.935]))\n",
    "    return sym    "
   ]
  },
  {
   "cell_type": "code",
   "execution_count": 44,
   "metadata": {
    "collapsed": false
   },
   "outputs": [],
   "source": [
    "sym_list = generate_sym_in_bin(100)"
   ]
  },
  {
   "cell_type": "code",
   "execution_count": 76,
   "metadata": {
    "collapsed": false
   },
   "outputs": [
    {
     "name": "stdout",
     "output_type": "stream",
     "text": [
      "295 1\n"
     ]
    }
   ],
   "source": [
    "print(sym3_frame._id.unique().max(), sym3_frame._id.min())"
   ]
  },
  {
   "cell_type": "code",
   "execution_count": 69,
   "metadata": {
    "collapsed": false
   },
   "outputs": [
    {
     "name": "stdout",
     "output_type": "stream",
     "text": [
      "1548.0 1.0\n"
     ]
    }
   ],
   "source": [
    "print(diag_frame.id.max(), diag_frame.id.min())"
   ]
  },
  {
   "cell_type": "code",
   "execution_count": 71,
   "metadata": {
    "collapsed": false
   },
   "outputs": [
    {
     "name": "stdout",
     "output_type": "stream",
     "text": [
      "syd     306.0\n",
      "did    1537.0\n",
      "wei       3.0\n",
      "dtype: float64 syd    1.0\n",
      "did    1.0\n",
      "wei    0.0\n",
      "dtype: float64\n"
     ]
    }
   ],
   "source": [
    "print(sym_did_frame.max(), sym_did_frame.min())"
   ]
  },
  {
   "cell_type": "code",
   "execution_count": 106,
   "metadata": {
    "collapsed": false
   },
   "outputs": [
    {
     "data": {
      "text/plain": [
       "syd      3.0\n",
       "did    294.0\n",
       "wei      NaN\n",
       "Name: 30, dtype: float64"
      ]
     },
     "execution_count": 106,
     "metadata": {},
     "output_type": "execute_result"
    }
   ],
   "source": [
    "sym_did_frame.loc[30.0]"
   ]
  },
  {
   "cell_type": "code",
   "execution_count": 108,
   "metadata": {
    "collapsed": false
   },
   "outputs": [
    {
     "data": {
      "text/plain": [
       "'Acid \\x0bLSD abuse'"
      ]
     },
     "execution_count": 108,
     "metadata": {},
     "output_type": "execute_result"
    }
   ],
   "source": [
    "diag_frame.loc[10].title"
   ]
  },
  {
   "cell_type": "code",
   "execution_count": 124,
   "metadata": {
    "collapsed": false
   },
   "outputs": [
    {
     "ename": "KeyError",
     "evalue": "'the label [99] is not in the [index]'",
     "output_type": "error",
     "traceback": [
      "\u001b[0;31m---------------------------------------------------------------------------\u001b[0m",
      "\u001b[0;31mKeyError\u001b[0m                                  Traceback (most recent call last)",
      "\u001b[0;32m/usr/local/lib/python3.5/dist-packages/pandas/core/indexing.py\u001b[0m in \u001b[0;36m_has_valid_type\u001b[0;34m(self, key, axis)\u001b[0m\n\u001b[1;32m   1410\u001b[0m                 \u001b[0;32mif\u001b[0m \u001b[0mkey\u001b[0m \u001b[0;32mnot\u001b[0m \u001b[0;32min\u001b[0m \u001b[0max\u001b[0m\u001b[0;34m:\u001b[0m\u001b[0;34m\u001b[0m\u001b[0m\n\u001b[0;32m-> 1411\u001b[0;31m                     \u001b[0merror\u001b[0m\u001b[0;34m(\u001b[0m\u001b[0;34m)\u001b[0m\u001b[0;34m\u001b[0m\u001b[0m\n\u001b[0m\u001b[1;32m   1412\u001b[0m             \u001b[0;32mexcept\u001b[0m \u001b[0mTypeError\u001b[0m \u001b[0;32mas\u001b[0m \u001b[0me\u001b[0m\u001b[0;34m:\u001b[0m\u001b[0;34m\u001b[0m\u001b[0m\n",
      "\u001b[0;32m/usr/local/lib/python3.5/dist-packages/pandas/core/indexing.py\u001b[0m in \u001b[0;36merror\u001b[0;34m()\u001b[0m\n\u001b[1;32m   1405\u001b[0m                 raise KeyError(\"the label [%s] is not in the [%s]\" %\n\u001b[0;32m-> 1406\u001b[0;31m                                (key, self.obj._get_axis_name(axis)))\n\u001b[0m\u001b[1;32m   1407\u001b[0m \u001b[0;34m\u001b[0m\u001b[0m\n",
      "\u001b[0;31mKeyError\u001b[0m: 'the label [99] is not in the [index]'",
      "\nDuring handling of the above exception, another exception occurred:\n",
      "\u001b[0;31mKeyError\u001b[0m                                  Traceback (most recent call last)",
      "\u001b[0;32m<ipython-input-124-f79fcf8c6370>\u001b[0m in \u001b[0;36m<module>\u001b[0;34m()\u001b[0m\n\u001b[0;32m----> 1\u001b[0;31m \u001b[0msym3_frame\u001b[0m\u001b[0;34m.\u001b[0m\u001b[0mloc\u001b[0m\u001b[0;34m[\u001b[0m\u001b[0;36m99\u001b[0m\u001b[0;34m]\u001b[0m\u001b[0;34m\u001b[0m\u001b[0m\n\u001b[0m",
      "\u001b[0;32m/usr/local/lib/python3.5/dist-packages/pandas/core/indexing.py\u001b[0m in \u001b[0;36m__getitem__\u001b[0;34m(self, key)\u001b[0m\n\u001b[1;32m   1310\u001b[0m             \u001b[0;32mreturn\u001b[0m \u001b[0mself\u001b[0m\u001b[0;34m.\u001b[0m\u001b[0m_getitem_tuple\u001b[0m\u001b[0;34m(\u001b[0m\u001b[0mkey\u001b[0m\u001b[0;34m)\u001b[0m\u001b[0;34m\u001b[0m\u001b[0m\n\u001b[1;32m   1311\u001b[0m         \u001b[0;32melse\u001b[0m\u001b[0;34m:\u001b[0m\u001b[0;34m\u001b[0m\u001b[0m\n\u001b[0;32m-> 1312\u001b[0;31m             \u001b[0;32mreturn\u001b[0m \u001b[0mself\u001b[0m\u001b[0;34m.\u001b[0m\u001b[0m_getitem_axis\u001b[0m\u001b[0;34m(\u001b[0m\u001b[0mkey\u001b[0m\u001b[0;34m,\u001b[0m \u001b[0maxis\u001b[0m\u001b[0;34m=\u001b[0m\u001b[0;36m0\u001b[0m\u001b[0;34m)\u001b[0m\u001b[0;34m\u001b[0m\u001b[0m\n\u001b[0m\u001b[1;32m   1313\u001b[0m \u001b[0;34m\u001b[0m\u001b[0m\n\u001b[1;32m   1314\u001b[0m     \u001b[0;32mdef\u001b[0m \u001b[0m_getitem_axis\u001b[0m\u001b[0;34m(\u001b[0m\u001b[0mself\u001b[0m\u001b[0;34m,\u001b[0m \u001b[0mkey\u001b[0m\u001b[0;34m,\u001b[0m \u001b[0maxis\u001b[0m\u001b[0;34m=\u001b[0m\u001b[0;36m0\u001b[0m\u001b[0;34m)\u001b[0m\u001b[0;34m:\u001b[0m\u001b[0;34m\u001b[0m\u001b[0m\n",
      "\u001b[0;32m/usr/local/lib/python3.5/dist-packages/pandas/core/indexing.py\u001b[0m in \u001b[0;36m_getitem_axis\u001b[0;34m(self, key, axis)\u001b[0m\n\u001b[1;32m   1480\u001b[0m \u001b[0;34m\u001b[0m\u001b[0m\n\u001b[1;32m   1481\u001b[0m         \u001b[0;31m# fall thru to straight lookup\u001b[0m\u001b[0;34m\u001b[0m\u001b[0;34m\u001b[0m\u001b[0m\n\u001b[0;32m-> 1482\u001b[0;31m         \u001b[0mself\u001b[0m\u001b[0;34m.\u001b[0m\u001b[0m_has_valid_type\u001b[0m\u001b[0;34m(\u001b[0m\u001b[0mkey\u001b[0m\u001b[0;34m,\u001b[0m \u001b[0maxis\u001b[0m\u001b[0;34m)\u001b[0m\u001b[0;34m\u001b[0m\u001b[0m\n\u001b[0m\u001b[1;32m   1483\u001b[0m         \u001b[0;32mreturn\u001b[0m \u001b[0mself\u001b[0m\u001b[0;34m.\u001b[0m\u001b[0m_get_label\u001b[0m\u001b[0;34m(\u001b[0m\u001b[0mkey\u001b[0m\u001b[0;34m,\u001b[0m \u001b[0maxis\u001b[0m\u001b[0;34m=\u001b[0m\u001b[0maxis\u001b[0m\u001b[0;34m)\u001b[0m\u001b[0;34m\u001b[0m\u001b[0m\n\u001b[1;32m   1484\u001b[0m \u001b[0;34m\u001b[0m\u001b[0m\n",
      "\u001b[0;32m/usr/local/lib/python3.5/dist-packages/pandas/core/indexing.py\u001b[0m in \u001b[0;36m_has_valid_type\u001b[0;34m(self, key, axis)\u001b[0m\n\u001b[1;32m   1417\u001b[0m                 \u001b[0;32mraise\u001b[0m\u001b[0;34m\u001b[0m\u001b[0m\n\u001b[1;32m   1418\u001b[0m             \u001b[0;32mexcept\u001b[0m\u001b[0;34m:\u001b[0m\u001b[0;34m\u001b[0m\u001b[0m\n\u001b[0;32m-> 1419\u001b[0;31m                 \u001b[0merror\u001b[0m\u001b[0;34m(\u001b[0m\u001b[0;34m)\u001b[0m\u001b[0;34m\u001b[0m\u001b[0m\n\u001b[0m\u001b[1;32m   1420\u001b[0m \u001b[0;34m\u001b[0m\u001b[0m\n\u001b[1;32m   1421\u001b[0m         \u001b[0;32mreturn\u001b[0m \u001b[0;32mTrue\u001b[0m\u001b[0;34m\u001b[0m\u001b[0m\n",
      "\u001b[0;32m/usr/local/lib/python3.5/dist-packages/pandas/core/indexing.py\u001b[0m in \u001b[0;36merror\u001b[0;34m()\u001b[0m\n\u001b[1;32m   1404\u001b[0m                                     \"key\")\n\u001b[1;32m   1405\u001b[0m                 raise KeyError(\"the label [%s] is not in the [%s]\" %\n\u001b[0;32m-> 1406\u001b[0;31m                                (key, self.obj._get_axis_name(axis)))\n\u001b[0m\u001b[1;32m   1407\u001b[0m \u001b[0;34m\u001b[0m\u001b[0m\n\u001b[1;32m   1408\u001b[0m             \u001b[0;32mtry\u001b[0m\u001b[0;34m:\u001b[0m\u001b[0;34m\u001b[0m\u001b[0m\n",
      "\u001b[0;31mKeyError\u001b[0m: 'the label [99] is not in the [index]'"
     ]
    }
   ],
   "source": [
    "sym3_frame.loc[99]"
   ]
  },
  {
   "cell_type": "code",
   "execution_count": 142,
   "metadata": {
    "collapsed": false
   },
   "outputs": [],
   "source": [
    "dict_map = {}\n",
    "for i in list(diag_frame.index):\n",
    "    temp = sym_did_frame[sym_did_frame.did == i]\n",
    "    if not temp.empty:\n",
    "        key = diag_frame.loc[i].title.replace('\\x0b', ' ')\n",
    "        sym_list = []\n",
    "        for j in temp.syd:\n",
    "            try:\n",
    "                sym_list.append(sym3_frame.loc[j].symptom.replace('\\x0b', ' '))\n",
    "            except:\n",
    "                pass\n",
    "        dict_map[key] =  sym_list"
   ]
  },
  {
   "cell_type": "code",
   "execution_count": 151,
   "metadata": {
    "collapsed": false
   },
   "outputs": [],
   "source": [
    "temp = []\n",
    "for i in dict_map.values():\n",
    "    temp += i"
   ]
  },
  {
   "cell_type": "code",
   "execution_count": 179,
   "metadata": {
    "collapsed": false
   },
   "outputs": [],
   "source": [
    "dia_list = list(dict_map.keys())"
   ]
  },
  {
   "cell_type": "code",
   "execution_count": 187,
   "metadata": {
    "collapsed": false
   },
   "outputs": [],
   "source": [
    "\"\".join(['a', 'b'])\n",
    "a = np.array(1)"
   ]
  },
  {
   "cell_type": "code",
   "execution_count": 232,
   "metadata": {
    "collapsed": false
   },
   "outputs": [],
   "source": [
    "def rand_data(n):\n",
    "    doc_df = pd.DataFrame(np.random.choice(rand_doc_list, n), columns=[\"Name\"])\n",
    "    addr_df = pd.DataFrame(np.random.choice(rand_addr, n), columns=[\"Address\"])\n",
    "    dia_n = np.random.choice(dia_list, n)\n",
    "    dia_df = pd.DataFrame(dia_n, columns= [\"Diagnosis\"])\n",
    "    temp = []\n",
    "    for i in dia_n:\n",
    "            temp.append(','.join(dict_map[i]))    \n",
    "    sym_df = pd.DataFrame(temp, columns=[\"Symptom\"])           \n",
    "    return pd.concat([doc_df, addr_df, dia_df, sym_df], axis=1)"
   ]
  },
  {
   "cell_type": "code",
   "execution_count": null,
   "metadata": {
    "collapsed": true
   },
   "outputs": [],
   "source": []
  },
  {
   "cell_type": "code",
   "execution_count": 233,
   "metadata": {
    "collapsed": false
   },
   "outputs": [
    {
     "data": {
      "text/html": [
       "<div>\n",
       "<table border=\"1\" class=\"dataframe\">\n",
       "  <thead>\n",
       "    <tr style=\"text-align: right;\">\n",
       "      <th></th>\n",
       "      <th>Name</th>\n",
       "      <th>Address</th>\n",
       "      <th>Diagnosis</th>\n",
       "      <th>Symptom</th>\n",
       "    </tr>\n",
       "  </thead>\n",
       "  <tbody>\n",
       "    <tr>\n",
       "      <th>0</th>\n",
       "      <td>Dr Julie Hinton</td>\n",
       "      <td>Lindachester</td>\n",
       "      <td>Mallory Weiss syndrome esophageal tear</td>\n",
       "      <td>Blood in vomit,Vomiting coffee ground material...</td>\n",
       "    </tr>\n",
       "    <tr>\n",
       "      <th>1</th>\n",
       "      <td>Dr Shannon Merritt</td>\n",
       "      <td>Port Austinshire</td>\n",
       "      <td>Fibroid uterine muscle tumor</td>\n",
       "      <td>Vaginal bleeding,Infertility (Female),Stomach ...</td>\n",
       "    </tr>\n",
       "    <tr>\n",
       "      <th>2</th>\n",
       "      <td>Dr Shannon Merritt</td>\n",
       "      <td>Lindachester</td>\n",
       "      <td>Beta blocker overdose blood pressure medicatio...</td>\n",
       "      <td>Overdose,Poisoning</td>\n",
       "    </tr>\n",
       "    <tr>\n",
       "      <th>3</th>\n",
       "      <td>Dr Stephanie Yoder</td>\n",
       "      <td>Port Austinshire</td>\n",
       "      <td>Thrombocytopenia low platelet count</td>\n",
       "      <td>Nasal bleeding,Vomiting coffee ground material...</td>\n",
       "    </tr>\n",
       "    <tr>\n",
       "      <th>4</th>\n",
       "      <td>Dr Stephanie Yoder</td>\n",
       "      <td>Laneberg</td>\n",
       "      <td>Aortic regurgitation leaking heart valve</td>\n",
       "      <td>Shortness of breath,Fainting,Chest pain</td>\n",
       "    </tr>\n",
       "    <tr>\n",
       "      <th>5</th>\n",
       "      <td>Dr Samantha Mcdonald</td>\n",
       "      <td>Burnetthaven</td>\n",
       "      <td>Lead poisoning toxicity</td>\n",
       "      <td>Learning difficulties,Arm numbness (paresthesi...</td>\n",
       "    </tr>\n",
       "    <tr>\n",
       "      <th>6</th>\n",
       "      <td>Dr Kathryn Williams</td>\n",
       "      <td>West Paulmouth</td>\n",
       "      <td>Delirium tremens DTs, severe alcohol withdrawal</td>\n",
       "      <td>Alcohol abuse</td>\n",
       "    </tr>\n",
       "    <tr>\n",
       "      <th>7</th>\n",
       "      <td>Dr Andrew Alexander</td>\n",
       "      <td>New Tanya</td>\n",
       "      <td>Upper respiratory tract infection URI, common ...</td>\n",
       "      <td>Chills,Fever,Headache,Sore throat,Throat pain,...</td>\n",
       "    </tr>\n",
       "    <tr>\n",
       "      <th>8</th>\n",
       "      <td>Dr Shannon Merritt</td>\n",
       "      <td>East Charles</td>\n",
       "      <td>Post concussive syndrome symptoms after a conc...</td>\n",
       "      <td>Learning difficulties,Dizziness,Headache,Vomiting</td>\n",
       "    </tr>\n",
       "    <tr>\n",
       "      <th>9</th>\n",
       "      <td>Dr Robert Richardson</td>\n",
       "      <td>Laneberg</td>\n",
       "      <td>Bladder infection cystitis, UTI, urinary tract...</td>\n",
       "      <td>Lower abdominal pain,Back ache or pain,Chills,...</td>\n",
       "    </tr>\n",
       "    <tr>\n",
       "      <th>10</th>\n",
       "      <td>Dr Stephanie Yoder</td>\n",
       "      <td>Michaelchester</td>\n",
       "      <td>Croup upper airway inflammation</td>\n",
       "      <td></td>\n",
       "    </tr>\n",
       "    <tr>\n",
       "      <th>11</th>\n",
       "      <td>Dr Andrew Alexander</td>\n",
       "      <td>Khanberg</td>\n",
       "      <td>Sialolithiasis salivary gland stone</td>\n",
       "      <td>Facial pain</td>\n",
       "    </tr>\n",
       "    <tr>\n",
       "      <th>12</th>\n",
       "      <td>Dr Julie Hinton</td>\n",
       "      <td>West Paulmouth</td>\n",
       "      <td>Ankle swelling</td>\n",
       "      <td></td>\n",
       "    </tr>\n",
       "    <tr>\n",
       "      <th>13</th>\n",
       "      <td>Dr Robert Richardson</td>\n",
       "      <td>Port Austinshire</td>\n",
       "      <td>Intracranial hemorrhage bleeding in brain</td>\n",
       "      <td>Change in behavior,Dizziness,Headache,Confusion</td>\n",
       "    </tr>\n",
       "    <tr>\n",
       "      <th>14</th>\n",
       "      <td>Dr Shannon Merritt</td>\n",
       "      <td>Michaelchester</td>\n",
       "      <td>Anal fistula</td>\n",
       "      <td>Fever</td>\n",
       "    </tr>\n",
       "    <tr>\n",
       "      <th>15</th>\n",
       "      <td>Dr Edward Phillips</td>\n",
       "      <td>New Tanya</td>\n",
       "      <td>Intestinal ischemia decreased intestinal blood...</td>\n",
       "      <td>Abdominal swelling (Stomach swelling)</td>\n",
       "    </tr>\n",
       "    <tr>\n",
       "      <th>16</th>\n",
       "      <td>Dr Jill Melton</td>\n",
       "      <td>West Nancybury</td>\n",
       "      <td>Nasopharyngeal carcinoma tumor</td>\n",
       "      <td>Double vision (Diplopia)</td>\n",
       "    </tr>\n",
       "    <tr>\n",
       "      <th>17</th>\n",
       "      <td>Dr Shannon Merritt</td>\n",
       "      <td>Burnetthaven</td>\n",
       "      <td>Ankle swelling</td>\n",
       "      <td></td>\n",
       "    </tr>\n",
       "    <tr>\n",
       "      <th>18</th>\n",
       "      <td>Dr Robert Richardson</td>\n",
       "      <td>Lindachester</td>\n",
       "      <td>Herpangina mouth blisters</td>\n",
       "      <td>Fever,Sore throat,Mouth pain,Mouth ulcers</td>\n",
       "    </tr>\n",
       "    <tr>\n",
       "      <th>19</th>\n",
       "      <td>Dr Kathryn Williams</td>\n",
       "      <td>Laneberg</td>\n",
       "      <td>Broken leg leg fracture</td>\n",
       "      <td>Leg ache or pain,Leg numbness (paresthesias)</td>\n",
       "    </tr>\n",
       "    <tr>\n",
       "      <th>20</th>\n",
       "      <td>Dr Shannon Merritt</td>\n",
       "      <td>Burnetthaven</td>\n",
       "      <td>Abdominal aortic aneurysm (enlarged major bloo...</td>\n",
       "      <td>Back ache or pain,Flank pain,Abdominal swellin...</td>\n",
       "    </tr>\n",
       "    <tr>\n",
       "      <th>21</th>\n",
       "      <td>Dr Samantha Mcdonald</td>\n",
       "      <td>East Charles</td>\n",
       "      <td>Systemic sclerosis scleroderma, progressive so...</td>\n",
       "      <td>Swallowing problem (Dysphagia)</td>\n",
       "    </tr>\n",
       "    <tr>\n",
       "      <th>22</th>\n",
       "      <td>Dr Edward Phillips</td>\n",
       "      <td>Port Austinshire</td>\n",
       "      <td>Cardiac arrhythmia abnormal heart rate</td>\n",
       "      <td>Heart pulsations and palpitations,Vertigo (Roo...</td>\n",
       "    </tr>\n",
       "    <tr>\n",
       "      <th>23</th>\n",
       "      <td>Dr Edward Phillips</td>\n",
       "      <td>West Nancybury</td>\n",
       "      <td>Duodenal cancer small intestine</td>\n",
       "      <td>Weight loss, unexplained,Tired,Stomach and abd...</td>\n",
       "    </tr>\n",
       "    <tr>\n",
       "      <th>24</th>\n",
       "      <td>Dr Samantha Mcdonald</td>\n",
       "      <td>Khanberg</td>\n",
       "      <td>Lung cancer tumor</td>\n",
       "      <td>Hemoptysis (Coughing blood),Shortness of breat...</td>\n",
       "    </tr>\n",
       "    <tr>\n",
       "      <th>25</th>\n",
       "      <td>Dr David Hernandez</td>\n",
       "      <td>Burnetthaven</td>\n",
       "      <td>Frostbite tissue damage from cold</td>\n",
       "      <td>Hand numbness (paresthesias),Blister (Pocket o...</td>\n",
       "    </tr>\n",
       "    <tr>\n",
       "      <th>26</th>\n",
       "      <td>Dr Edward Phillips</td>\n",
       "      <td>East Charles</td>\n",
       "      <td>Fungal infections</td>\n",
       "      <td>Fever of unknown origin,Itchy rash (Pruritic r...</td>\n",
       "    </tr>\n",
       "    <tr>\n",
       "      <th>27</th>\n",
       "      <td>Dr David Hernandez</td>\n",
       "      <td>Michaelchester</td>\n",
       "      <td>Ear swelling</td>\n",
       "      <td>Ear pressure,Pain in the ear</td>\n",
       "    </tr>\n",
       "    <tr>\n",
       "      <th>28</th>\n",
       "      <td>Dr Shannon Merritt</td>\n",
       "      <td>West Paulmouth</td>\n",
       "      <td>Birth control pill use</td>\n",
       "      <td>Amenorrhea (No menstruation)</td>\n",
       "    </tr>\n",
       "    <tr>\n",
       "      <th>29</th>\n",
       "      <td>Dr Edward Phillips</td>\n",
       "      <td>New Tanya</td>\n",
       "      <td>Stress</td>\n",
       "      <td>Anxiety (Nervousness),Tired,Impotence,Amenorrh...</td>\n",
       "    </tr>\n",
       "    <tr>\n",
       "      <th>...</th>\n",
       "      <td>...</td>\n",
       "      <td>...</td>\n",
       "      <td>...</td>\n",
       "      <td>...</td>\n",
       "    </tr>\n",
       "    <tr>\n",
       "      <th>70</th>\n",
       "      <td>Dr Samantha Mcdonald</td>\n",
       "      <td>Khanberg</td>\n",
       "      <td>Osteoarthritis bone inflammation</td>\n",
       "      <td>Arm ache or pain,Leg ache or pain,Swelling of ...</td>\n",
       "    </tr>\n",
       "    <tr>\n",
       "      <th>71</th>\n",
       "      <td>Dr Shannon Merritt</td>\n",
       "      <td>Laneberg</td>\n",
       "      <td>Hypoglycemia low blood sugar</td>\n",
       "      <td>Anxiety (Nervousness),Change in behavior,Seizu...</td>\n",
       "    </tr>\n",
       "    <tr>\n",
       "      <th>72</th>\n",
       "      <td>Dr David Hernandez</td>\n",
       "      <td>West Paulmouth</td>\n",
       "      <td>Streptococcus infection strep throat bacteria</td>\n",
       "      <td>Sore throat,Throat pain</td>\n",
       "    </tr>\n",
       "    <tr>\n",
       "      <th>73</th>\n",
       "      <td>Dr David Hernandez</td>\n",
       "      <td>Laneberg</td>\n",
       "      <td>Genital herpes HSV type 2 infection</td>\n",
       "      <td>Vaginal pain,Rash,Skin sores</td>\n",
       "    </tr>\n",
       "    <tr>\n",
       "      <th>74</th>\n",
       "      <td>Dr Shannon Merritt</td>\n",
       "      <td>West Nancybury</td>\n",
       "      <td>Human papillomavirus infection HPV</td>\n",
       "      <td>Vaginal pain</td>\n",
       "    </tr>\n",
       "    <tr>\n",
       "      <th>75</th>\n",
       "      <td>Dr Jill Melton</td>\n",
       "      <td>Lindachester</td>\n",
       "      <td>Sprain stretched, torn ligament</td>\n",
       "      <td>Swelling of both legs</td>\n",
       "    </tr>\n",
       "    <tr>\n",
       "      <th>76</th>\n",
       "      <td>Dr Jill Melton</td>\n",
       "      <td>East Charles</td>\n",
       "      <td>Extragonadal germ cell tumors</td>\n",
       "      <td>Weight loss, unexplained,Fever of unknown orig...</td>\n",
       "    </tr>\n",
       "    <tr>\n",
       "      <th>77</th>\n",
       "      <td>Dr Stephanie Yoder</td>\n",
       "      <td>Port Austinshire</td>\n",
       "      <td>Phenylketonuria PKU</td>\n",
       "      <td>Seizure,Learning difficulties</td>\n",
       "    </tr>\n",
       "    <tr>\n",
       "      <th>78</th>\n",
       "      <td>Dr Stephanie Yoder</td>\n",
       "      <td>West Nancybury</td>\n",
       "      <td>Drug overuse Prescription Drug Overuse</td>\n",
       "      <td>Change in behavior,Lethargy (Sluggishness),Wei...</td>\n",
       "    </tr>\n",
       "    <tr>\n",
       "      <th>79</th>\n",
       "      <td>Dr Samantha Mcdonald</td>\n",
       "      <td>West Nancybury</td>\n",
       "      <td>Acid  LSD abuse</td>\n",
       "      <td>Substance abuse (Drug abuse)</td>\n",
       "    </tr>\n",
       "    <tr>\n",
       "      <th>80</th>\n",
       "      <td>Dr Stephanie Yoder</td>\n",
       "      <td>Lindachester</td>\n",
       "      <td>Intrahepatic cholestasis of pregnancy liver di...</td>\n",
       "      <td>Itchy rash (Pruritic rash)</td>\n",
       "    </tr>\n",
       "    <tr>\n",
       "      <th>81</th>\n",
       "      <td>Dr Shannon Merritt</td>\n",
       "      <td>Port Austinshire</td>\n",
       "      <td>Osteoporosis extremely thin bone</td>\n",
       "      <td>Back ache or pain,Low back ache or pain</td>\n",
       "    </tr>\n",
       "    <tr>\n",
       "      <th>82</th>\n",
       "      <td>Dr Robert Richardson</td>\n",
       "      <td>Lindachester</td>\n",
       "      <td>Dementia decline in mental ability</td>\n",
       "      <td>Change in behavior,Confusion</td>\n",
       "    </tr>\n",
       "    <tr>\n",
       "      <th>83</th>\n",
       "      <td>Dr Jill Melton</td>\n",
       "      <td>Khanberg</td>\n",
       "      <td>Esophageal stricture narrowing of the esophagus</td>\n",
       "      <td>Swallowing problem (Dysphagia),Upper abdominal...</td>\n",
       "    </tr>\n",
       "    <tr>\n",
       "      <th>84</th>\n",
       "      <td>Dr Samantha Mcdonald</td>\n",
       "      <td>West Paulmouth</td>\n",
       "      <td>Actinic keratosis AK, skin growth</td>\n",
       "      <td></td>\n",
       "    </tr>\n",
       "    <tr>\n",
       "      <th>85</th>\n",
       "      <td>Dr Edward Phillips</td>\n",
       "      <td>Michaelchester</td>\n",
       "      <td>Congestive heart failure CHF</td>\n",
       "      <td>Cough,Lethargy (Sluggishness),Shortness of bre...</td>\n",
       "    </tr>\n",
       "    <tr>\n",
       "      <th>86</th>\n",
       "      <td>Dr Stephanie Yoder</td>\n",
       "      <td>New Tanya</td>\n",
       "      <td>Deep venous thrombosis DVT, venous blood clot</td>\n",
       "      <td>Arm ache or pain,Leg ache or pain,Swelling of ...</td>\n",
       "    </tr>\n",
       "    <tr>\n",
       "      <th>87</th>\n",
       "      <td>Dr Robert Richardson</td>\n",
       "      <td>West Paulmouth</td>\n",
       "      <td>Q fever flu-like bacterial illness</td>\n",
       "      <td>Fever,Weight loss, unexplained,Shortness of br...</td>\n",
       "    </tr>\n",
       "    <tr>\n",
       "      <th>88</th>\n",
       "      <td>Dr Edward Phillips</td>\n",
       "      <td>Michaelchester</td>\n",
       "      <td>Peripheral neuropathy nerve damage</td>\n",
       "      <td>Arm ache or pain,Leg ache or pain,Numbness,Gen...</td>\n",
       "    </tr>\n",
       "    <tr>\n",
       "      <th>89</th>\n",
       "      <td>Dr Edward Phillips</td>\n",
       "      <td>Port Austinshire</td>\n",
       "      <td>Costochondritis chest wall inflammation</td>\n",
       "      <td>Chest pressure,Upper abdominal pain,Back ache ...</td>\n",
       "    </tr>\n",
       "    <tr>\n",
       "      <th>90</th>\n",
       "      <td>Dr Shannon Merritt</td>\n",
       "      <td>West Paulmouth</td>\n",
       "      <td>Steroid abuse</td>\n",
       "      <td></td>\n",
       "    </tr>\n",
       "    <tr>\n",
       "      <th>91</th>\n",
       "      <td>Dr Kathryn Williams</td>\n",
       "      <td>New Tanya</td>\n",
       "      <td>Warfarin Coumadin, Jantoven overdose</td>\n",
       "      <td>Overdose,Poisoning,Blood in urine (Hematuria),...</td>\n",
       "    </tr>\n",
       "    <tr>\n",
       "      <th>92</th>\n",
       "      <td>Dr Samantha Mcdonald</td>\n",
       "      <td>West Paulmouth</td>\n",
       "      <td>Fat embolism blood clot from fat</td>\n",
       "      <td>Shortness of breath</td>\n",
       "    </tr>\n",
       "    <tr>\n",
       "      <th>93</th>\n",
       "      <td>Dr Julie Hinton</td>\n",
       "      <td>Lindachester</td>\n",
       "      <td>Dehydration</td>\n",
       "      <td>Change in behavior,Dizziness,Lethargy (Sluggis...</td>\n",
       "    </tr>\n",
       "    <tr>\n",
       "      <th>94</th>\n",
       "      <td>Dr Julie Hinton</td>\n",
       "      <td>Laneberg</td>\n",
       "      <td>Arthritis joint inflammation</td>\n",
       "      <td>Arm ache or pain,Back ache or pain,Leg ache or...</td>\n",
       "    </tr>\n",
       "    <tr>\n",
       "      <th>95</th>\n",
       "      <td>Dr Stephanie Yoder</td>\n",
       "      <td>West Paulmouth</td>\n",
       "      <td>Adjustment disorder  (poor adjustment to life ...</td>\n",
       "      <td>Learning difficulties,Anxiety (Nervousness),Ch...</td>\n",
       "    </tr>\n",
       "    <tr>\n",
       "      <th>96</th>\n",
       "      <td>Dr Edward Phillips</td>\n",
       "      <td>East Charles</td>\n",
       "      <td>Myotonia impaired muscle relaxation</td>\n",
       "      <td>General weakness</td>\n",
       "    </tr>\n",
       "    <tr>\n",
       "      <th>97</th>\n",
       "      <td>Dr David Hernandez</td>\n",
       "      <td>Lindachester</td>\n",
       "      <td>Sagittal sinus thrombosis venous blood clot in...</td>\n",
       "      <td>Seizure</td>\n",
       "    </tr>\n",
       "    <tr>\n",
       "      <th>98</th>\n",
       "      <td>Dr David Hernandez</td>\n",
       "      <td>Lindachester</td>\n",
       "      <td>Skin abscess collection of pus</td>\n",
       "      <td>Pustule (Collection of pus),Skin swelling</td>\n",
       "    </tr>\n",
       "    <tr>\n",
       "      <th>99</th>\n",
       "      <td>Dr Shannon Merritt</td>\n",
       "      <td>Khanberg</td>\n",
       "      <td>Cardiomegaly enlarged heart</td>\n",
       "      <td>Tired,Shortness of breath,Heart pulsations and...</td>\n",
       "    </tr>\n",
       "  </tbody>\n",
       "</table>\n",
       "<p>100 rows × 4 columns</p>\n",
       "</div>"
      ],
      "text/plain": [
       "                    Name           Address  \\\n",
       "0        Dr Julie Hinton      Lindachester   \n",
       "1     Dr Shannon Merritt  Port Austinshire   \n",
       "2     Dr Shannon Merritt      Lindachester   \n",
       "3     Dr Stephanie Yoder  Port Austinshire   \n",
       "4     Dr Stephanie Yoder          Laneberg   \n",
       "5   Dr Samantha Mcdonald      Burnetthaven   \n",
       "6    Dr Kathryn Williams    West Paulmouth   \n",
       "7    Dr Andrew Alexander         New Tanya   \n",
       "8     Dr Shannon Merritt      East Charles   \n",
       "9   Dr Robert Richardson          Laneberg   \n",
       "10    Dr Stephanie Yoder    Michaelchester   \n",
       "11   Dr Andrew Alexander          Khanberg   \n",
       "12       Dr Julie Hinton    West Paulmouth   \n",
       "13  Dr Robert Richardson  Port Austinshire   \n",
       "14    Dr Shannon Merritt    Michaelchester   \n",
       "15    Dr Edward Phillips         New Tanya   \n",
       "16        Dr Jill Melton    West Nancybury   \n",
       "17    Dr Shannon Merritt      Burnetthaven   \n",
       "18  Dr Robert Richardson      Lindachester   \n",
       "19   Dr Kathryn Williams          Laneberg   \n",
       "20    Dr Shannon Merritt      Burnetthaven   \n",
       "21  Dr Samantha Mcdonald      East Charles   \n",
       "22    Dr Edward Phillips  Port Austinshire   \n",
       "23    Dr Edward Phillips    West Nancybury   \n",
       "24  Dr Samantha Mcdonald          Khanberg   \n",
       "25    Dr David Hernandez      Burnetthaven   \n",
       "26    Dr Edward Phillips      East Charles   \n",
       "27    Dr David Hernandez    Michaelchester   \n",
       "28    Dr Shannon Merritt    West Paulmouth   \n",
       "29    Dr Edward Phillips         New Tanya   \n",
       "..                   ...               ...   \n",
       "70  Dr Samantha Mcdonald          Khanberg   \n",
       "71    Dr Shannon Merritt          Laneberg   \n",
       "72    Dr David Hernandez    West Paulmouth   \n",
       "73    Dr David Hernandez          Laneberg   \n",
       "74    Dr Shannon Merritt    West Nancybury   \n",
       "75        Dr Jill Melton      Lindachester   \n",
       "76        Dr Jill Melton      East Charles   \n",
       "77    Dr Stephanie Yoder  Port Austinshire   \n",
       "78    Dr Stephanie Yoder    West Nancybury   \n",
       "79  Dr Samantha Mcdonald    West Nancybury   \n",
       "80    Dr Stephanie Yoder      Lindachester   \n",
       "81    Dr Shannon Merritt  Port Austinshire   \n",
       "82  Dr Robert Richardson      Lindachester   \n",
       "83        Dr Jill Melton          Khanberg   \n",
       "84  Dr Samantha Mcdonald    West Paulmouth   \n",
       "85    Dr Edward Phillips    Michaelchester   \n",
       "86    Dr Stephanie Yoder         New Tanya   \n",
       "87  Dr Robert Richardson    West Paulmouth   \n",
       "88    Dr Edward Phillips    Michaelchester   \n",
       "89    Dr Edward Phillips  Port Austinshire   \n",
       "90    Dr Shannon Merritt    West Paulmouth   \n",
       "91   Dr Kathryn Williams         New Tanya   \n",
       "92  Dr Samantha Mcdonald    West Paulmouth   \n",
       "93       Dr Julie Hinton      Lindachester   \n",
       "94       Dr Julie Hinton          Laneberg   \n",
       "95    Dr Stephanie Yoder    West Paulmouth   \n",
       "96    Dr Edward Phillips      East Charles   \n",
       "97    Dr David Hernandez      Lindachester   \n",
       "98    Dr David Hernandez      Lindachester   \n",
       "99    Dr Shannon Merritt          Khanberg   \n",
       "\n",
       "                                            Diagnosis  \\\n",
       "0              Mallory Weiss syndrome esophageal tear   \n",
       "1                        Fibroid uterine muscle tumor   \n",
       "2   Beta blocker overdose blood pressure medicatio...   \n",
       "3                 Thrombocytopenia low platelet count   \n",
       "4            Aortic regurgitation leaking heart valve   \n",
       "5                             Lead poisoning toxicity   \n",
       "6   Delirium tremens DTs, severe alcohol withdrawal   \n",
       "7   Upper respiratory tract infection URI, common ...   \n",
       "8   Post concussive syndrome symptoms after a conc...   \n",
       "9   Bladder infection cystitis, UTI, urinary tract...   \n",
       "10                    Croup upper airway inflammation   \n",
       "11                Sialolithiasis salivary gland stone   \n",
       "12                                     Ankle swelling   \n",
       "13          Intracranial hemorrhage bleeding in brain   \n",
       "14                                       Anal fistula   \n",
       "15  Intestinal ischemia decreased intestinal blood...   \n",
       "16                     Nasopharyngeal carcinoma tumor   \n",
       "17                                     Ankle swelling   \n",
       "18                          Herpangina mouth blisters   \n",
       "19                            Broken leg leg fracture   \n",
       "20  Abdominal aortic aneurysm (enlarged major bloo...   \n",
       "21  Systemic sclerosis scleroderma, progressive so...   \n",
       "22             Cardiac arrhythmia abnormal heart rate   \n",
       "23                    Duodenal cancer small intestine   \n",
       "24                                  Lung cancer tumor   \n",
       "25                  Frostbite tissue damage from cold   \n",
       "26                                  Fungal infections   \n",
       "27                                       Ear swelling   \n",
       "28                             Birth control pill use   \n",
       "29                                             Stress   \n",
       "..                                                ...   \n",
       "70                   Osteoarthritis bone inflammation   \n",
       "71                       Hypoglycemia low blood sugar   \n",
       "72      Streptococcus infection strep throat bacteria   \n",
       "73                Genital herpes HSV type 2 infection   \n",
       "74                 Human papillomavirus infection HPV   \n",
       "75                    Sprain stretched, torn ligament   \n",
       "76                      Extragonadal germ cell tumors   \n",
       "77                                Phenylketonuria PKU   \n",
       "78             Drug overuse Prescription Drug Overuse   \n",
       "79                                    Acid  LSD abuse   \n",
       "80  Intrahepatic cholestasis of pregnancy liver di...   \n",
       "81                   Osteoporosis extremely thin bone   \n",
       "82                 Dementia decline in mental ability   \n",
       "83    Esophageal stricture narrowing of the esophagus   \n",
       "84                  Actinic keratosis AK, skin growth   \n",
       "85                       Congestive heart failure CHF   \n",
       "86      Deep venous thrombosis DVT, venous blood clot   \n",
       "87                 Q fever flu-like bacterial illness   \n",
       "88                 Peripheral neuropathy nerve damage   \n",
       "89            Costochondritis chest wall inflammation   \n",
       "90                                      Steroid abuse   \n",
       "91               Warfarin Coumadin, Jantoven overdose   \n",
       "92                   Fat embolism blood clot from fat   \n",
       "93                                        Dehydration   \n",
       "94                       Arthritis joint inflammation   \n",
       "95  Adjustment disorder  (poor adjustment to life ...   \n",
       "96                Myotonia impaired muscle relaxation   \n",
       "97  Sagittal sinus thrombosis venous blood clot in...   \n",
       "98                     Skin abscess collection of pus   \n",
       "99                        Cardiomegaly enlarged heart   \n",
       "\n",
       "                                              Symptom  \n",
       "0   Blood in vomit,Vomiting coffee ground material...  \n",
       "1   Vaginal bleeding,Infertility (Female),Stomach ...  \n",
       "2                                  Overdose,Poisoning  \n",
       "3   Nasal bleeding,Vomiting coffee ground material...  \n",
       "4             Shortness of breath,Fainting,Chest pain  \n",
       "5   Learning difficulties,Arm numbness (paresthesi...  \n",
       "6                                       Alcohol abuse  \n",
       "7   Chills,Fever,Headache,Sore throat,Throat pain,...  \n",
       "8   Learning difficulties,Dizziness,Headache,Vomiting  \n",
       "9   Lower abdominal pain,Back ache or pain,Chills,...  \n",
       "10                                                     \n",
       "11                                        Facial pain  \n",
       "12                                                     \n",
       "13    Change in behavior,Dizziness,Headache,Confusion  \n",
       "14                                              Fever  \n",
       "15              Abdominal swelling (Stomach swelling)  \n",
       "16                           Double vision (Diplopia)  \n",
       "17                                                     \n",
       "18          Fever,Sore throat,Mouth pain,Mouth ulcers  \n",
       "19       Leg ache or pain,Leg numbness (paresthesias)  \n",
       "20  Back ache or pain,Flank pain,Abdominal swellin...  \n",
       "21                     Swallowing problem (Dysphagia)  \n",
       "22  Heart pulsations and palpitations,Vertigo (Roo...  \n",
       "23  Weight loss, unexplained,Tired,Stomach and abd...  \n",
       "24  Hemoptysis (Coughing blood),Shortness of breat...  \n",
       "25  Hand numbness (paresthesias),Blister (Pocket o...  \n",
       "26  Fever of unknown origin,Itchy rash (Pruritic r...  \n",
       "27                       Ear pressure,Pain in the ear  \n",
       "28                       Amenorrhea (No menstruation)  \n",
       "29  Anxiety (Nervousness),Tired,Impotence,Amenorrh...  \n",
       "..                                                ...  \n",
       "70  Arm ache or pain,Leg ache or pain,Swelling of ...  \n",
       "71  Anxiety (Nervousness),Change in behavior,Seizu...  \n",
       "72                            Sore throat,Throat pain  \n",
       "73                       Vaginal pain,Rash,Skin sores  \n",
       "74                                       Vaginal pain  \n",
       "75                              Swelling of both legs  \n",
       "76  Weight loss, unexplained,Fever of unknown orig...  \n",
       "77                      Seizure,Learning difficulties  \n",
       "78  Change in behavior,Lethargy (Sluggishness),Wei...  \n",
       "79                       Substance abuse (Drug abuse)  \n",
       "80                         Itchy rash (Pruritic rash)  \n",
       "81            Back ache or pain,Low back ache or pain  \n",
       "82                       Change in behavior,Confusion  \n",
       "83  Swallowing problem (Dysphagia),Upper abdominal...  \n",
       "84                                                     \n",
       "85  Cough,Lethargy (Sluggishness),Shortness of bre...  \n",
       "86  Arm ache or pain,Leg ache or pain,Swelling of ...  \n",
       "87  Fever,Weight loss, unexplained,Shortness of br...  \n",
       "88  Arm ache or pain,Leg ache or pain,Numbness,Gen...  \n",
       "89  Chest pressure,Upper abdominal pain,Back ache ...  \n",
       "90                                                     \n",
       "91  Overdose,Poisoning,Blood in urine (Hematuria),...  \n",
       "92                                Shortness of breath  \n",
       "93  Change in behavior,Dizziness,Lethargy (Sluggis...  \n",
       "94  Arm ache or pain,Back ache or pain,Leg ache or...  \n",
       "95  Learning difficulties,Anxiety (Nervousness),Ch...  \n",
       "96                                   General weakness  \n",
       "97                                            Seizure  \n",
       "98          Pustule (Collection of pus),Skin swelling  \n",
       "99  Tired,Shortness of breath,Heart pulsations and...  \n",
       "\n",
       "[100 rows x 4 columns]"
      ]
     },
     "execution_count": 233,
     "metadata": {},
     "output_type": "execute_result"
    }
   ],
   "source": [
    "rand_data(100)"
   ]
  },
  {
   "cell_type": "code",
   "execution_count": null,
   "metadata": {
    "collapsed": true
   },
   "outputs": [],
   "source": []
  }
 ],
 "metadata": {
  "kernelspec": {
   "display_name": "Python 3",
   "language": "python",
   "name": "python3"
  },
  "language_info": {
   "codemirror_mode": {
    "name": "ipython",
    "version": 3
   },
   "file_extension": ".py",
   "mimetype": "text/x-python",
   "name": "python",
   "nbconvert_exporter": "python",
   "pygments_lexer": "ipython3",
   "version": "3.5.2"
  }
 },
 "nbformat": 4,
 "nbformat_minor": 2
}
