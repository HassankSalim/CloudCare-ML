{
 "cells": [
  {
   "cell_type": "code",
   "execution_count": 1,
   "metadata": {
    "collapsed": true
   },
   "outputs": [],
   "source": [
    "import pandas as pd\n",
    "import numpy as np\n",
    "from faker import Faker"
   ]
  },
  {
   "cell_type": "code",
   "execution_count": 2,
   "metadata": {
    "collapsed": false
   },
   "outputs": [],
   "source": [
    "sym3_frame =  pd.read_csv(\"sym_3.csv\", index_col=\"_id\")\n",
    "sym_did_frame = pd.read_csv(\"diffsydiw.csv\")\n",
    "diag_frame = pd.read_csv(\"diagn_title.csv\", index_col=\"id\")\n",
    "fake = Faker()"
   ]
  },
  {
   "cell_type": "code",
   "execution_count": 7,
   "metadata": {
    "collapsed": false
   },
   "outputs": [
    {
     "data": {
      "text/html": [
       "<div>\n",
       "<table border=\"1\" class=\"dataframe\">\n",
       "  <thead>\n",
       "    <tr style=\"text-align: right;\">\n",
       "      <th></th>\n",
       "      <th>symptom</th>\n",
       "    </tr>\n",
       "    <tr>\n",
       "      <th>_id</th>\n",
       "      <th></th>\n",
       "    </tr>\n",
       "  </thead>\n",
       "  <tbody>\n",
       "    <tr>\n",
       "      <th>1</th>\n",
       "      <td>Upper abdominal pain</td>\n",
       "    </tr>\n",
       "    <tr>\n",
       "      <th>2</th>\n",
       "      <td>Lower abdominal pain</td>\n",
       "    </tr>\n",
       "    <tr>\n",
       "      <th>4</th>\n",
       "      <td>Alcohol abuse</td>\n",
       "    </tr>\n",
       "    <tr>\n",
       "      <th>5</th>\n",
       "      <td>Anxiety (Nervousness)</td>\n",
       "    </tr>\n",
       "    <tr>\n",
       "      <th>6</th>\n",
       "      <td>Arm ache or pain</td>\n",
       "    </tr>\n",
       "  </tbody>\n",
       "</table>\n",
       "</div>"
      ],
      "text/plain": [
       "                   symptom\n",
       "_id                       \n",
       "1     Upper abdominal pain\n",
       "2     Lower abdominal pain\n",
       "4            Alcohol abuse\n",
       "5    Anxiety (Nervousness)\n",
       "6         Arm ache or pain"
      ]
     },
     "execution_count": 7,
     "metadata": {},
     "output_type": "execute_result"
    }
   ],
   "source": [
    "sym3_frame.head()"
   ]
  },
  {
   "cell_type": "code",
   "execution_count": 8,
   "metadata": {
    "collapsed": false
   },
   "outputs": [
    {
     "data": {
      "text/plain": [
       "'Upper abdominal pain'"
      ]
     },
     "execution_count": 8,
     "metadata": {},
     "output_type": "execute_result"
    }
   ],
   "source": [
    "sym3_frame.loc[1].symptom"
   ]
  },
  {
   "cell_type": "code",
   "execution_count": 10,
   "metadata": {
    "collapsed": false
   },
   "outputs": [
    {
     "data": {
      "text/plain": [
       "306.0"
      ]
     },
     "execution_count": 10,
     "metadata": {},
     "output_type": "execute_result"
    }
   ],
   "source": [
    "sym_did_frame.syd.max()"
   ]
  },
  {
   "cell_type": "code",
   "execution_count": 11,
   "metadata": {
    "collapsed": false
   },
   "outputs": [
    {
     "data": {
      "text/html": [
       "<div>\n",
       "<table border=\"1\" class=\"dataframe\">\n",
       "  <thead>\n",
       "    <tr style=\"text-align: right;\">\n",
       "      <th></th>\n",
       "      <th>title</th>\n",
       "    </tr>\n",
       "    <tr>\n",
       "      <th>id</th>\n",
       "      <th></th>\n",
       "    </tr>\n",
       "  </thead>\n",
       "  <tbody>\n",
       "    <tr>\n",
       "      <th>2.0</th>\n",
       "      <td>Abdominal swelling</td>\n",
       "    </tr>\n",
       "    <tr>\n",
       "      <th>3.0</th>\n",
       "      <td>Abdominal trauma</td>\n",
       "    </tr>\n",
       "    <tr>\n",
       "      <th>4.0</th>\n",
       "      <td>Abrasions\u000b",
       " (scrapes)</td>\n",
       "    </tr>\n",
       "    <tr>\n",
       "      <th>5.0</th>\n",
       "      <td>ACE inhibitor induced cough\u000b",
       "blood pressure med...</td>\n",
       "    </tr>\n",
       "    <tr>\n",
       "      <th>6.0</th>\n",
       "      <td>acetaminophen overdose\u000b",
       "Adverse reaction to ace...</td>\n",
       "    </tr>\n",
       "  </tbody>\n",
       "</table>\n",
       "</div>"
      ],
      "text/plain": [
       "                                                 title\n",
       "id                                                    \n",
       "2.0                                 Abdominal swelling\n",
       "3.0                                   Abdominal trauma\n",
       "4.0                               Abrasions\n",
       " (scrapes)\n",
       "5.0  ACE inhibitor induced cough\n",
       "blood pressure med...\n",
       "6.0  acetaminophen overdose\n",
       "Adverse reaction to ace..."
      ]
     },
     "execution_count": 11,
     "metadata": {},
     "output_type": "execute_result"
    }
   ],
   "source": [
    "diag_frame.head()"
   ]
  },
  {
   "cell_type": "code",
   "execution_count": 12,
   "metadata": {
    "collapsed": false
   },
   "outputs": [],
   "source": [
    "syms = sym3_frame.symptom"
   ]
  },
  {
   "cell_type": "code",
   "execution_count": 13,
   "metadata": {
    "collapsed": false
   },
   "outputs": [
    {
     "data": {
      "text/plain": [
       "array(['Leg ache or pain', 'Alcohol abuse', 'Trauma',\n",
       "       'Leg numbness (paresthesias)'], dtype=object)"
      ]
     },
     "execution_count": 13,
     "metadata": {},
     "output_type": "execute_result"
    }
   ],
   "source": [
    "np.random.choice(syms, size=[4])"
   ]
  },
  {
   "cell_type": "code",
   "execution_count": 14,
   "metadata": {
    "collapsed": true
   },
   "outputs": [],
   "source": [
    "def generate_doc(n):\n",
    "    doc_list = []\n",
    "    for _ in range(n):\n",
    "        doc_list.append(\"Dr \"+fake.name())\n",
    "    return doc_list    "
   ]
  },
  {
   "cell_type": "code",
   "execution_count": 15,
   "metadata": {
    "collapsed": false
   },
   "outputs": [],
   "source": [
    "rand_doc_list = generate_doc(10)"
   ]
  },
  {
   "cell_type": "code",
   "execution_count": 16,
   "metadata": {
    "collapsed": false
   },
   "outputs": [
    {
     "data": {
      "text/plain": [
       "'Robertshire'"
      ]
     },
     "execution_count": 16,
     "metadata": {},
     "output_type": "execute_result"
    }
   ],
   "source": [
    "fake.city()"
   ]
  },
  {
   "cell_type": "code",
   "execution_count": 17,
   "metadata": {
    "collapsed": true
   },
   "outputs": [],
   "source": [
    "def generate_address(n):\n",
    "    addr_list = []\n",
    "    for _ in range(n):\n",
    "        addr_list.append(fake.city())\n",
    "    return addr_list    "
   ]
  },
  {
   "cell_type": "code",
   "execution_count": 18,
   "metadata": {
    "collapsed": false
   },
   "outputs": [],
   "source": [
    "rand_addr = generate_address(10)"
   ]
  },
  {
   "cell_type": "code",
   "execution_count": 19,
   "metadata": {
    "collapsed": false
   },
   "outputs": [],
   "source": [
    "def generate_sym_in_bin(n):\n",
    "    sym = []\n",
    "    for _ in range(n):\n",
    "        sym.append(np.random.choice([1, 0], size=(100,), p=[0.065, 0.935]))\n",
    "    return sym    "
   ]
  },
  {
   "cell_type": "code",
   "execution_count": 20,
   "metadata": {
    "collapsed": false
   },
   "outputs": [],
   "source": [
    "sym_list = generate_sym_in_bin(100)"
   ]
  },
  {
   "cell_type": "code",
   "execution_count": 24,
   "metadata": {
    "collapsed": false
   },
   "outputs": [
    {
     "name": "stdout",
     "output_type": "stream",
     "text": [
      "295 1\n"
     ]
    }
   ],
   "source": [
    "print(sym3_frame.index.unique().max(), sym3_frame.index.min())"
   ]
  },
  {
   "cell_type": "code",
   "execution_count": 26,
   "metadata": {
    "collapsed": false
   },
   "outputs": [
    {
     "name": "stdout",
     "output_type": "stream",
     "text": [
      "1548.0 1.0\n"
     ]
    }
   ],
   "source": [
    "print(diag_frame.index.max(), diag_frame.index.min())"
   ]
  },
  {
   "cell_type": "code",
   "execution_count": 27,
   "metadata": {
    "collapsed": false
   },
   "outputs": [
    {
     "name": "stdout",
     "output_type": "stream",
     "text": [
      "syd     306.0\n",
      "did    1537.0\n",
      "wei       3.0\n",
      "dtype: float64 syd    1.0\n",
      "did    1.0\n",
      "wei    0.0\n",
      "dtype: float64\n"
     ]
    }
   ],
   "source": [
    "print(sym_did_frame.max(), sym_did_frame.min())"
   ]
  },
  {
   "cell_type": "code",
   "execution_count": 28,
   "metadata": {
    "collapsed": false
   },
   "outputs": [
    {
     "data": {
      "text/plain": [
       "syd      3.0\n",
       "did    294.0\n",
       "wei      NaN\n",
       "Name: 30, dtype: float64"
      ]
     },
     "execution_count": 28,
     "metadata": {},
     "output_type": "execute_result"
    }
   ],
   "source": [
    "sym_did_frame.loc[30.0]"
   ]
  },
  {
   "cell_type": "code",
   "execution_count": 29,
   "metadata": {
    "collapsed": false
   },
   "outputs": [
    {
     "data": {
      "text/plain": [
       "'Acid \\x0bLSD abuse'"
      ]
     },
     "execution_count": 29,
     "metadata": {},
     "output_type": "execute_result"
    }
   ],
   "source": [
    "diag_frame.loc[10].title"
   ]
  },
  {
   "cell_type": "code",
   "execution_count": 30,
   "metadata": {
    "collapsed": false
   },
   "outputs": [
    {
     "data": {
      "text/plain": [
       "symptom    Upper abdominal pain\n",
       "Name: 1, dtype: object"
      ]
     },
     "execution_count": 30,
     "metadata": {},
     "output_type": "execute_result"
    }
   ],
   "source": [
    "sym3_frame.loc[1]"
   ]
  },
  {
   "cell_type": "code",
   "execution_count": 31,
   "metadata": {
    "collapsed": false
   },
   "outputs": [],
   "source": [
    "dict_map = {}\n",
    "for i in list(diag_frame.index):\n",
    "    temp = sym_did_frame[sym_did_frame.did == i]\n",
    "    if not temp.empty:\n",
    "        key = diag_frame.loc[i].title.replace('\\x0b', ' ')\n",
    "        sym_list = []\n",
    "        for j in temp.syd:\n",
    "            try:\n",
    "                sym_list.append(sym3_frame.loc[j].symptom.replace('\\x0b', ' '))\n",
    "            except:\n",
    "                pass\n",
    "        dict_map[key] =  sym_list"
   ]
  },
  {
   "cell_type": "code",
   "execution_count": 32,
   "metadata": {
    "collapsed": false
   },
   "outputs": [],
   "source": [
    "temp = []\n",
    "for i in dict_map.values():\n",
    "    temp += i"
   ]
  },
  {
   "cell_type": "code",
   "execution_count": 33,
   "metadata": {
    "collapsed": false
   },
   "outputs": [],
   "source": [
    "dia_list = list(dict_map.keys())"
   ]
  },
  {
   "cell_type": "code",
   "execution_count": 34,
   "metadata": {
    "collapsed": false
   },
   "outputs": [],
   "source": [
    "\"\".join(['a', 'b'])\n",
    "a = np.array(1)"
   ]
  },
  {
   "cell_type": "code",
   "execution_count": 35,
   "metadata": {
    "collapsed": false
   },
   "outputs": [],
   "source": [
    "def rand_data(n):\n",
    "    doc_df = pd.DataFrame(np.random.choice(rand_doc_list, n), columns=[\"Name\"])\n",
    "    addr_df = pd.DataFrame(np.random.choice(rand_addr, n), columns=[\"Address\"])\n",
    "    dia_n = np.random.choice(dia_list, n)\n",
    "    dia_df = pd.DataFrame(dia_n, columns= [\"Diagnosis\"])\n",
    "    temp = []\n",
    "    for i in dia_n:\n",
    "            temp.append(','.join(dict_map[i]))    \n",
    "    sym_df = pd.DataFrame(temp, columns=[\"Symptom\"])           \n",
    "    return pd.concat([doc_df, addr_df, dia_df, sym_df], axis=1)"
   ]
  },
  {
   "cell_type": "code",
   "execution_count": 36,
   "metadata": {
    "collapsed": false
   },
   "outputs": [
    {
     "data": {
      "text/html": [
       "<div>\n",
       "<table border=\"1\" class=\"dataframe\">\n",
       "  <thead>\n",
       "    <tr style=\"text-align: right;\">\n",
       "      <th></th>\n",
       "      <th>Name</th>\n",
       "      <th>Address</th>\n",
       "      <th>Diagnosis</th>\n",
       "      <th>Symptom</th>\n",
       "    </tr>\n",
       "  </thead>\n",
       "  <tbody>\n",
       "    <tr>\n",
       "      <th>0</th>\n",
       "      <td>Dr Robert Wood</td>\n",
       "      <td>North Dwayne</td>\n",
       "      <td>Muscle spasm charley horse</td>\n",
       "      <td>Arm ache or pain,Muscle pain,Muscle spasm,Back...</td>\n",
       "    </tr>\n",
       "    <tr>\n",
       "      <th>1</th>\n",
       "      <td>Dr Robert Wood</td>\n",
       "      <td>North Dwayne</td>\n",
       "      <td>Small bowel cancer small intestine</td>\n",
       "      <td>Weight loss, unexplained</td>\n",
       "    </tr>\n",
       "    <tr>\n",
       "      <th>2</th>\n",
       "      <td>Dr Haley Cabrera</td>\n",
       "      <td>North Regina</td>\n",
       "      <td>Abdominal adhesions scar tissue</td>\n",
       "      <td>Vomiting,Stomach and abdominal pain</td>\n",
       "    </tr>\n",
       "    <tr>\n",
       "      <th>3</th>\n",
       "      <td>Dr Elizabeth Castro</td>\n",
       "      <td>Johnview</td>\n",
       "      <td>Leg swelling leg edema</td>\n",
       "      <td>Leg ache or pain</td>\n",
       "    </tr>\n",
       "    <tr>\n",
       "      <th>4</th>\n",
       "      <td>Dr Cesar Le</td>\n",
       "      <td>Lake Michaelside</td>\n",
       "      <td>Aspirin salicylates overdose</td>\n",
       "      <td>Overdose,Poisoning,Ringing in ears (Tinnitus)</td>\n",
       "    </tr>\n",
       "    <tr>\n",
       "      <th>5</th>\n",
       "      <td>Dr Melissa Watson</td>\n",
       "      <td>Jonathanland</td>\n",
       "      <td>Scleritis inflammation of the eye</td>\n",
       "      <td>Visual problems,Visual problems,Eye redness,Ey...</td>\n",
       "    </tr>\n",
       "    <tr>\n",
       "      <th>6</th>\n",
       "      <td>Dr Cesar Le</td>\n",
       "      <td>North Regina</td>\n",
       "      <td>Hyperkalemia elevated potassium level</td>\n",
       "      <td>General weakness</td>\n",
       "    </tr>\n",
       "    <tr>\n",
       "      <th>7</th>\n",
       "      <td>Dr Elizabeth Castro</td>\n",
       "      <td>Johnview</td>\n",
       "      <td>Kidney stone nephrolithiasis</td>\n",
       "      <td>Upper abdominal pain,Flank pain,Frequent urina...</td>\n",
       "    </tr>\n",
       "    <tr>\n",
       "      <th>8</th>\n",
       "      <td>Dr Robert Wood</td>\n",
       "      <td>Juarezfort</td>\n",
       "      <td>Scarlet fever post strep inflammation</td>\n",
       "      <td>Chills,Sore throat,Throat pain</td>\n",
       "    </tr>\n",
       "    <tr>\n",
       "      <th>9</th>\n",
       "      <td>Dr Jeremy Williamson</td>\n",
       "      <td>Christineshire</td>\n",
       "      <td>Radial head fracture broken elbow bone</td>\n",
       "      <td>Arm ache or pain</td>\n",
       "    </tr>\n",
       "    <tr>\n",
       "      <th>10</th>\n",
       "      <td>Dr Elizabeth Castro</td>\n",
       "      <td>Johnview</td>\n",
       "      <td>Mouth trauma injury</td>\n",
       "      <td>Trauma,Mouth swelling,Jaw pain</td>\n",
       "    </tr>\n",
       "    <tr>\n",
       "      <th>11</th>\n",
       "      <td>Dr Robert Wood</td>\n",
       "      <td>Lake Michaelside</td>\n",
       "      <td>Colon polyps large intestine tumors</td>\n",
       "      <td></td>\n",
       "    </tr>\n",
       "    <tr>\n",
       "      <th>12</th>\n",
       "      <td>Dr Jeremy Williamson</td>\n",
       "      <td>Stephensonburgh</td>\n",
       "      <td>Bed bugs</td>\n",
       "      <td>Arm itching,Foot itching,Foot redness,Hand red...</td>\n",
       "    </tr>\n",
       "    <tr>\n",
       "      <th>13</th>\n",
       "      <td>Dr Robert Wood</td>\n",
       "      <td>Stephensonburgh</td>\n",
       "      <td>Hyperventilation rapid breathing</td>\n",
       "      <td>Numbness,Hand numbness (paresthesias),Chest pa...</td>\n",
       "    </tr>\n",
       "    <tr>\n",
       "      <th>14</th>\n",
       "      <td>Dr Robert Wood</td>\n",
       "      <td>Johnsonfurt</td>\n",
       "      <td>Tarantula bite Tarantula Venoms</td>\n",
       "      <td></td>\n",
       "    </tr>\n",
       "    <tr>\n",
       "      <th>15</th>\n",
       "      <td>Dr Robert Schultz</td>\n",
       "      <td>Johnsonfurt</td>\n",
       "      <td>Complex partial seizures psychomotor epilepsy</td>\n",
       "      <td>Tremors,Tremors,Anxiety (Nervousness)</td>\n",
       "    </tr>\n",
       "    <tr>\n",
       "      <th>16</th>\n",
       "      <td>Dr Cesar Le</td>\n",
       "      <td>East Jennifer</td>\n",
       "      <td>Esophageal cancer tumor</td>\n",
       "      <td>Swallowing problem (Dysphagia),Vomiting coffee...</td>\n",
       "    </tr>\n",
       "    <tr>\n",
       "      <th>17</th>\n",
       "      <td>Dr Cesar Le</td>\n",
       "      <td>Christineshire</td>\n",
       "      <td>Chicken pox varicella virus</td>\n",
       "      <td>Blister (Pocket of fluid),Pustule (Collection ...</td>\n",
       "    </tr>\n",
       "    <tr>\n",
       "      <th>18</th>\n",
       "      <td>Dr Amanda Yu</td>\n",
       "      <td>North Dwayne</td>\n",
       "      <td>Puncture wound</td>\n",
       "      <td></td>\n",
       "    </tr>\n",
       "    <tr>\n",
       "      <th>19</th>\n",
       "      <td>Dr Robert Schultz</td>\n",
       "      <td>Johnview</td>\n",
       "      <td>Steroid use</td>\n",
       "      <td>Obesity</td>\n",
       "    </tr>\n",
       "    <tr>\n",
       "      <th>20</th>\n",
       "      <td>Dr Jeremy Williamson</td>\n",
       "      <td>Lake Michaelside</td>\n",
       "      <td>Hodgkin's disease cancer of the lymph system</td>\n",
       "      <td>Swollen lymph nodes (Large lymph nodes),Skin i...</td>\n",
       "    </tr>\n",
       "    <tr>\n",
       "      <th>21</th>\n",
       "      <td>Dr Jeremy Williamson</td>\n",
       "      <td>Johnview</td>\n",
       "      <td>Delusional disorder</td>\n",
       "      <td>Delusions or hallucinations</td>\n",
       "    </tr>\n",
       "    <tr>\n",
       "      <th>22</th>\n",
       "      <td>Dr Haley Cabrera</td>\n",
       "      <td>Lake Michaelside</td>\n",
       "      <td>Breast fibroadenoma benign breast lumps</td>\n",
       "      <td>Pain or soreness of breast,Nipple discharge</td>\n",
       "    </tr>\n",
       "    <tr>\n",
       "      <th>23</th>\n",
       "      <td>Dr Danielle Prince</td>\n",
       "      <td>Juarezfort</td>\n",
       "      <td>Pancytopenia</td>\n",
       "      <td>Tired,Shortness of breath,Fainting,Dizziness</td>\n",
       "    </tr>\n",
       "    <tr>\n",
       "      <th>24</th>\n",
       "      <td>Dr Jeremy Williamson</td>\n",
       "      <td>Johnsonfurt</td>\n",
       "      <td>Multiple pregnancy twins, triplets, etc</td>\n",
       "      <td>Lower abdominal pain</td>\n",
       "    </tr>\n",
       "    <tr>\n",
       "      <th>25</th>\n",
       "      <td>Dr Robert Schultz</td>\n",
       "      <td>North Regina</td>\n",
       "      <td>E. coli infection Escherichia coli, bacterial ...</td>\n",
       "      <td>Fever in the returning traveler</td>\n",
       "    </tr>\n",
       "    <tr>\n",
       "      <th>26</th>\n",
       "      <td>Dr Haley Cabrera</td>\n",
       "      <td>Stephensonburgh</td>\n",
       "      <td>Burns</td>\n",
       "      <td>Painful rash,Blister (Pocket of fluid),Hand re...</td>\n",
       "    </tr>\n",
       "    <tr>\n",
       "      <th>27</th>\n",
       "      <td>Dr Jeffrey Shaw</td>\n",
       "      <td>Jonathanland</td>\n",
       "      <td>Rocky mountain spotted fever bacterial infecti...</td>\n",
       "      <td>Fever</td>\n",
       "    </tr>\n",
       "    <tr>\n",
       "      <th>28</th>\n",
       "      <td>Dr Danielle Prince</td>\n",
       "      <td>Lake Michaelside</td>\n",
       "      <td>Colonic diverticulitis inflammation of pouches...</td>\n",
       "      <td>Lower abdominal pain,Flank pain,Stomach and ab...</td>\n",
       "    </tr>\n",
       "    <tr>\n",
       "      <th>29</th>\n",
       "      <td>Dr Haley Cabrera</td>\n",
       "      <td>Juarezfort</td>\n",
       "      <td>Neisseria gonorrhea infection sexually transmi...</td>\n",
       "      <td>Frequent urination (Frequency),Stomach and abd...</td>\n",
       "    </tr>\n",
       "    <tr>\n",
       "      <th>...</th>\n",
       "      <td>...</td>\n",
       "      <td>...</td>\n",
       "      <td>...</td>\n",
       "      <td>...</td>\n",
       "    </tr>\n",
       "    <tr>\n",
       "      <th>70</th>\n",
       "      <td>Dr Haley Cabrera</td>\n",
       "      <td>Johnsonfurt</td>\n",
       "      <td>Pinworms common intestinal worm</td>\n",
       "      <td></td>\n",
       "    </tr>\n",
       "    <tr>\n",
       "      <th>71</th>\n",
       "      <td>Dr Haley Cabrera</td>\n",
       "      <td>Stephensonburgh</td>\n",
       "      <td>Hip fracture broken hip</td>\n",
       "      <td>Leg ache or pain</td>\n",
       "    </tr>\n",
       "    <tr>\n",
       "      <th>72</th>\n",
       "      <td>Dr Cesar Le</td>\n",
       "      <td>Johnview</td>\n",
       "      <td>Iron deficiency anemia low red blood cell count</td>\n",
       "      <td>Dizziness</td>\n",
       "    </tr>\n",
       "    <tr>\n",
       "      <th>73</th>\n",
       "      <td>Dr Melissa Watson</td>\n",
       "      <td>Stephensonburgh</td>\n",
       "      <td>Intestinal volvulus twisting of intestine</td>\n",
       "      <td>Blood in vomit,Abdominal swelling (Stomach swe...</td>\n",
       "    </tr>\n",
       "    <tr>\n",
       "      <th>74</th>\n",
       "      <td>Dr Jeffrey Shaw</td>\n",
       "      <td>Johnsonfurt</td>\n",
       "      <td>Aseptic necrosis of bone bone death and destru...</td>\n",
       "      <td>Leg ache or pain</td>\n",
       "    </tr>\n",
       "    <tr>\n",
       "      <th>75</th>\n",
       "      <td>Dr Amanda Yu</td>\n",
       "      <td>Juarezfort</td>\n",
       "      <td>Vaginal foreign body</td>\n",
       "      <td>Vaginal bleeding</td>\n",
       "    </tr>\n",
       "    <tr>\n",
       "      <th>76</th>\n",
       "      <td>Dr Robert Schultz</td>\n",
       "      <td>North Dwayne</td>\n",
       "      <td>Ear infection, outer otitis externa</td>\n",
       "      <td>Ear pressure,Pain in the ear,Vertigo (Room spi...</td>\n",
       "    </tr>\n",
       "    <tr>\n",
       "      <th>77</th>\n",
       "      <td>Dr Robert Schultz</td>\n",
       "      <td>Lake Michaelside</td>\n",
       "      <td>Mallet finger finger tendon rupture</td>\n",
       "      <td></td>\n",
       "    </tr>\n",
       "    <tr>\n",
       "      <th>78</th>\n",
       "      <td>Dr Haley Cabrera</td>\n",
       "      <td>East Jennifer</td>\n",
       "      <td>Glaucoma elevated eye pressure</td>\n",
       "      <td>Eye pain (Irritation),Headache,Visual problems...</td>\n",
       "    </tr>\n",
       "    <tr>\n",
       "      <th>79</th>\n",
       "      <td>Dr Jeffrey Shaw</td>\n",
       "      <td>Juarezfort</td>\n",
       "      <td>Hypotension low blood pressure</td>\n",
       "      <td>Dizziness,Fainting,Confusion</td>\n",
       "    </tr>\n",
       "    <tr>\n",
       "      <th>80</th>\n",
       "      <td>Dr Melissa Watson</td>\n",
       "      <td>Christineshire</td>\n",
       "      <td>Aplastic anemia bone marrow failure</td>\n",
       "      <td>Bleeding tendency,Bleeding gums,Nasal bleeding</td>\n",
       "    </tr>\n",
       "    <tr>\n",
       "      <th>81</th>\n",
       "      <td>Dr Danielle Prince</td>\n",
       "      <td>Lake Michaelside</td>\n",
       "      <td>Panhypopituitarism pituitary gland malfunction</td>\n",
       "      <td></td>\n",
       "    </tr>\n",
       "    <tr>\n",
       "      <th>82</th>\n",
       "      <td>Dr Danielle Prince</td>\n",
       "      <td>East Jennifer</td>\n",
       "      <td>Optic neuritis optic nerve inflammation</td>\n",
       "      <td>Eye pain (Irritation),Visual problems,Visual f...</td>\n",
       "    </tr>\n",
       "    <tr>\n",
       "      <th>83</th>\n",
       "      <td>Dr Jeffrey Shaw</td>\n",
       "      <td>North Regina</td>\n",
       "      <td>Loffler's syndrome pulmonary eosinophilia, lun...</td>\n",
       "      <td>Cough,Fever,Shortness of breath</td>\n",
       "    </tr>\n",
       "    <tr>\n",
       "      <th>84</th>\n",
       "      <td>Dr Melissa Watson</td>\n",
       "      <td>Christineshire</td>\n",
       "      <td>Enlarged lymph nodes lymphadenopathy</td>\n",
       "      <td>Arm ache or pain,Pain in the ear,Neck ache or ...</td>\n",
       "    </tr>\n",
       "    <tr>\n",
       "      <th>85</th>\n",
       "      <td>Dr Jeffrey Shaw</td>\n",
       "      <td>Christineshire</td>\n",
       "      <td>Nasal foreign body unnatural object in the nose</td>\n",
       "      <td>Nasal bleeding</td>\n",
       "    </tr>\n",
       "    <tr>\n",
       "      <th>86</th>\n",
       "      <td>Dr Elizabeth Castro</td>\n",
       "      <td>Juarezfort</td>\n",
       "      <td>Macular degeneration chronic eye disease</td>\n",
       "      <td>Visual problems</td>\n",
       "    </tr>\n",
       "    <tr>\n",
       "      <th>87</th>\n",
       "      <td>Dr Danielle Prince</td>\n",
       "      <td>Johnsonfurt</td>\n",
       "      <td>Yaws</td>\n",
       "      <td>Rash,Skin sores,Swollen lymph nodes (Large lym...</td>\n",
       "    </tr>\n",
       "    <tr>\n",
       "      <th>88</th>\n",
       "      <td>Dr Robert Wood</td>\n",
       "      <td>Christineshire</td>\n",
       "      <td>Lung cancer tumor</td>\n",
       "      <td>Hemoptysis (Coughing blood),Shortness of breat...</td>\n",
       "    </tr>\n",
       "    <tr>\n",
       "      <th>89</th>\n",
       "      <td>Dr Jeremy Williamson</td>\n",
       "      <td>Christineshire</td>\n",
       "      <td>Dislocation joint out of place</td>\n",
       "      <td>Arm ache or pain</td>\n",
       "    </tr>\n",
       "    <tr>\n",
       "      <th>90</th>\n",
       "      <td>Dr Jeffrey Shaw</td>\n",
       "      <td>North Dwayne</td>\n",
       "      <td>Eustachian tube dysfunction inner ear tube</td>\n",
       "      <td></td>\n",
       "    </tr>\n",
       "    <tr>\n",
       "      <th>91</th>\n",
       "      <td>Dr Danielle Prince</td>\n",
       "      <td>Jonathanland</td>\n",
       "      <td>Iron overdose</td>\n",
       "      <td>Poisoning</td>\n",
       "    </tr>\n",
       "    <tr>\n",
       "      <th>92</th>\n",
       "      <td>Dr Elizabeth Castro</td>\n",
       "      <td>North Dwayne</td>\n",
       "      <td>Moles nevi</td>\n",
       "      <td>Skin sores</td>\n",
       "    </tr>\n",
       "    <tr>\n",
       "      <th>93</th>\n",
       "      <td>Dr Jeremy Williamson</td>\n",
       "      <td>North Dwayne</td>\n",
       "      <td>Muscular dystrophy inherited muscle disease</td>\n",
       "      <td>General weakness</td>\n",
       "    </tr>\n",
       "    <tr>\n",
       "      <th>94</th>\n",
       "      <td>Dr Jeremy Williamson</td>\n",
       "      <td>Christineshire</td>\n",
       "      <td>Glaucoma elevated eye pressure</td>\n",
       "      <td>Eye pain (Irritation),Headache,Visual problems...</td>\n",
       "    </tr>\n",
       "    <tr>\n",
       "      <th>95</th>\n",
       "      <td>Dr Cesar Le</td>\n",
       "      <td>North Regina</td>\n",
       "      <td>Cholera intestinal bacterial infection</td>\n",
       "      <td>Fever in the returning traveler</td>\n",
       "    </tr>\n",
       "    <tr>\n",
       "      <th>96</th>\n",
       "      <td>Dr Haley Cabrera</td>\n",
       "      <td>Stephensonburgh</td>\n",
       "      <td>Mycoplasma infection bacteria</td>\n",
       "      <td>Headache,Cough,Muscle pain,Nasal congestion,Pa...</td>\n",
       "    </tr>\n",
       "    <tr>\n",
       "      <th>97</th>\n",
       "      <td>Dr Elizabeth Castro</td>\n",
       "      <td>Lake Michaelside</td>\n",
       "      <td>Periodontitis gum inflammation</td>\n",
       "      <td>Bleeding gums,Painful gums,Swollen gums,Pain i...</td>\n",
       "    </tr>\n",
       "    <tr>\n",
       "      <th>98</th>\n",
       "      <td>Dr Cesar Le</td>\n",
       "      <td>Juarezfort</td>\n",
       "      <td>Iron deficiency anemia low red blood cell count</td>\n",
       "      <td>Dizziness</td>\n",
       "    </tr>\n",
       "    <tr>\n",
       "      <th>99</th>\n",
       "      <td>Dr Haley Cabrera</td>\n",
       "      <td>Johnsonfurt</td>\n",
       "      <td>Endometritis inflammation of the uterus</td>\n",
       "      <td>Lower abdominal pain</td>\n",
       "    </tr>\n",
       "  </tbody>\n",
       "</table>\n",
       "<p>100 rows × 4 columns</p>\n",
       "</div>"
      ],
      "text/plain": [
       "                    Name           Address  \\\n",
       "0         Dr Robert Wood      North Dwayne   \n",
       "1         Dr Robert Wood      North Dwayne   \n",
       "2       Dr Haley Cabrera      North Regina   \n",
       "3    Dr Elizabeth Castro          Johnview   \n",
       "4            Dr Cesar Le  Lake Michaelside   \n",
       "5      Dr Melissa Watson      Jonathanland   \n",
       "6            Dr Cesar Le      North Regina   \n",
       "7    Dr Elizabeth Castro          Johnview   \n",
       "8         Dr Robert Wood        Juarezfort   \n",
       "9   Dr Jeremy Williamson    Christineshire   \n",
       "10   Dr Elizabeth Castro          Johnview   \n",
       "11        Dr Robert Wood  Lake Michaelside   \n",
       "12  Dr Jeremy Williamson   Stephensonburgh   \n",
       "13        Dr Robert Wood   Stephensonburgh   \n",
       "14        Dr Robert Wood       Johnsonfurt   \n",
       "15     Dr Robert Schultz       Johnsonfurt   \n",
       "16           Dr Cesar Le     East Jennifer   \n",
       "17           Dr Cesar Le    Christineshire   \n",
       "18          Dr Amanda Yu      North Dwayne   \n",
       "19     Dr Robert Schultz          Johnview   \n",
       "20  Dr Jeremy Williamson  Lake Michaelside   \n",
       "21  Dr Jeremy Williamson          Johnview   \n",
       "22      Dr Haley Cabrera  Lake Michaelside   \n",
       "23    Dr Danielle Prince        Juarezfort   \n",
       "24  Dr Jeremy Williamson       Johnsonfurt   \n",
       "25     Dr Robert Schultz      North Regina   \n",
       "26      Dr Haley Cabrera   Stephensonburgh   \n",
       "27       Dr Jeffrey Shaw      Jonathanland   \n",
       "28    Dr Danielle Prince  Lake Michaelside   \n",
       "29      Dr Haley Cabrera        Juarezfort   \n",
       "..                   ...               ...   \n",
       "70      Dr Haley Cabrera       Johnsonfurt   \n",
       "71      Dr Haley Cabrera   Stephensonburgh   \n",
       "72           Dr Cesar Le          Johnview   \n",
       "73     Dr Melissa Watson   Stephensonburgh   \n",
       "74       Dr Jeffrey Shaw       Johnsonfurt   \n",
       "75          Dr Amanda Yu        Juarezfort   \n",
       "76     Dr Robert Schultz      North Dwayne   \n",
       "77     Dr Robert Schultz  Lake Michaelside   \n",
       "78      Dr Haley Cabrera     East Jennifer   \n",
       "79       Dr Jeffrey Shaw        Juarezfort   \n",
       "80     Dr Melissa Watson    Christineshire   \n",
       "81    Dr Danielle Prince  Lake Michaelside   \n",
       "82    Dr Danielle Prince     East Jennifer   \n",
       "83       Dr Jeffrey Shaw      North Regina   \n",
       "84     Dr Melissa Watson    Christineshire   \n",
       "85       Dr Jeffrey Shaw    Christineshire   \n",
       "86   Dr Elizabeth Castro        Juarezfort   \n",
       "87    Dr Danielle Prince       Johnsonfurt   \n",
       "88        Dr Robert Wood    Christineshire   \n",
       "89  Dr Jeremy Williamson    Christineshire   \n",
       "90       Dr Jeffrey Shaw      North Dwayne   \n",
       "91    Dr Danielle Prince      Jonathanland   \n",
       "92   Dr Elizabeth Castro      North Dwayne   \n",
       "93  Dr Jeremy Williamson      North Dwayne   \n",
       "94  Dr Jeremy Williamson    Christineshire   \n",
       "95           Dr Cesar Le      North Regina   \n",
       "96      Dr Haley Cabrera   Stephensonburgh   \n",
       "97   Dr Elizabeth Castro  Lake Michaelside   \n",
       "98           Dr Cesar Le        Juarezfort   \n",
       "99      Dr Haley Cabrera       Johnsonfurt   \n",
       "\n",
       "                                            Diagnosis  \\\n",
       "0                          Muscle spasm charley horse   \n",
       "1                  Small bowel cancer small intestine   \n",
       "2                     Abdominal adhesions scar tissue   \n",
       "3                              Leg swelling leg edema   \n",
       "4                        Aspirin salicylates overdose   \n",
       "5                   Scleritis inflammation of the eye   \n",
       "6               Hyperkalemia elevated potassium level   \n",
       "7                        Kidney stone nephrolithiasis   \n",
       "8               Scarlet fever post strep inflammation   \n",
       "9              Radial head fracture broken elbow bone   \n",
       "10                                Mouth trauma injury   \n",
       "11                Colon polyps large intestine tumors   \n",
       "12                                           Bed bugs   \n",
       "13                   Hyperventilation rapid breathing   \n",
       "14                    Tarantula bite Tarantula Venoms   \n",
       "15      Complex partial seizures psychomotor epilepsy   \n",
       "16                            Esophageal cancer tumor   \n",
       "17                        Chicken pox varicella virus   \n",
       "18                                     Puncture wound   \n",
       "19                                        Steroid use   \n",
       "20       Hodgkin's disease cancer of the lymph system   \n",
       "21                                Delusional disorder   \n",
       "22            Breast fibroadenoma benign breast lumps   \n",
       "23                                       Pancytopenia   \n",
       "24            Multiple pregnancy twins, triplets, etc   \n",
       "25  E. coli infection Escherichia coli, bacterial ...   \n",
       "26                                              Burns   \n",
       "27  Rocky mountain spotted fever bacterial infecti...   \n",
       "28  Colonic diverticulitis inflammation of pouches...   \n",
       "29  Neisseria gonorrhea infection sexually transmi...   \n",
       "..                                                ...   \n",
       "70                    Pinworms common intestinal worm   \n",
       "71                            Hip fracture broken hip   \n",
       "72    Iron deficiency anemia low red blood cell count   \n",
       "73          Intestinal volvulus twisting of intestine   \n",
       "74  Aseptic necrosis of bone bone death and destru...   \n",
       "75                               Vaginal foreign body   \n",
       "76                Ear infection, outer otitis externa   \n",
       "77                Mallet finger finger tendon rupture   \n",
       "78                     Glaucoma elevated eye pressure   \n",
       "79                     Hypotension low blood pressure   \n",
       "80                Aplastic anemia bone marrow failure   \n",
       "81     Panhypopituitarism pituitary gland malfunction   \n",
       "82            Optic neuritis optic nerve inflammation   \n",
       "83  Loffler's syndrome pulmonary eosinophilia, lun...   \n",
       "84               Enlarged lymph nodes lymphadenopathy   \n",
       "85    Nasal foreign body unnatural object in the nose   \n",
       "86           Macular degeneration chronic eye disease   \n",
       "87                                               Yaws   \n",
       "88                                  Lung cancer tumor   \n",
       "89                     Dislocation joint out of place   \n",
       "90         Eustachian tube dysfunction inner ear tube   \n",
       "91                                      Iron overdose   \n",
       "92                                         Moles nevi   \n",
       "93        Muscular dystrophy inherited muscle disease   \n",
       "94                     Glaucoma elevated eye pressure   \n",
       "95             Cholera intestinal bacterial infection   \n",
       "96                      Mycoplasma infection bacteria   \n",
       "97                     Periodontitis gum inflammation   \n",
       "98    Iron deficiency anemia low red blood cell count   \n",
       "99            Endometritis inflammation of the uterus   \n",
       "\n",
       "                                              Symptom  \n",
       "0   Arm ache or pain,Muscle pain,Muscle spasm,Back...  \n",
       "1                            Weight loss, unexplained  \n",
       "2                 Vomiting,Stomach and abdominal pain  \n",
       "3                                    Leg ache or pain  \n",
       "4       Overdose,Poisoning,Ringing in ears (Tinnitus)  \n",
       "5   Visual problems,Visual problems,Eye redness,Ey...  \n",
       "6                                    General weakness  \n",
       "7   Upper abdominal pain,Flank pain,Frequent urina...  \n",
       "8                      Chills,Sore throat,Throat pain  \n",
       "9                                    Arm ache or pain  \n",
       "10                     Trauma,Mouth swelling,Jaw pain  \n",
       "11                                                     \n",
       "12  Arm itching,Foot itching,Foot redness,Hand red...  \n",
       "13  Numbness,Hand numbness (paresthesias),Chest pa...  \n",
       "14                                                     \n",
       "15              Tremors,Tremors,Anxiety (Nervousness)  \n",
       "16  Swallowing problem (Dysphagia),Vomiting coffee...  \n",
       "17  Blister (Pocket of fluid),Pustule (Collection ...  \n",
       "18                                                     \n",
       "19                                            Obesity  \n",
       "20  Swollen lymph nodes (Large lymph nodes),Skin i...  \n",
       "21                        Delusions or hallucinations  \n",
       "22        Pain or soreness of breast,Nipple discharge  \n",
       "23       Tired,Shortness of breath,Fainting,Dizziness  \n",
       "24                               Lower abdominal pain  \n",
       "25                    Fever in the returning traveler  \n",
       "26  Painful rash,Blister (Pocket of fluid),Hand re...  \n",
       "27                                              Fever  \n",
       "28  Lower abdominal pain,Flank pain,Stomach and ab...  \n",
       "29  Frequent urination (Frequency),Stomach and abd...  \n",
       "..                                                ...  \n",
       "70                                                     \n",
       "71                                   Leg ache or pain  \n",
       "72                                          Dizziness  \n",
       "73  Blood in vomit,Abdominal swelling (Stomach swe...  \n",
       "74                                   Leg ache or pain  \n",
       "75                                   Vaginal bleeding  \n",
       "76  Ear pressure,Pain in the ear,Vertigo (Room spi...  \n",
       "77                                                     \n",
       "78  Eye pain (Irritation),Headache,Visual problems...  \n",
       "79                       Dizziness,Fainting,Confusion  \n",
       "80     Bleeding tendency,Bleeding gums,Nasal bleeding  \n",
       "81                                                     \n",
       "82  Eye pain (Irritation),Visual problems,Visual f...  \n",
       "83                    Cough,Fever,Shortness of breath  \n",
       "84  Arm ache or pain,Pain in the ear,Neck ache or ...  \n",
       "85                                     Nasal bleeding  \n",
       "86                                    Visual problems  \n",
       "87  Rash,Skin sores,Swollen lymph nodes (Large lym...  \n",
       "88  Hemoptysis (Coughing blood),Shortness of breat...  \n",
       "89                                   Arm ache or pain  \n",
       "90                                                     \n",
       "91                                          Poisoning  \n",
       "92                                         Skin sores  \n",
       "93                                   General weakness  \n",
       "94  Eye pain (Irritation),Headache,Visual problems...  \n",
       "95                    Fever in the returning traveler  \n",
       "96  Headache,Cough,Muscle pain,Nasal congestion,Pa...  \n",
       "97  Bleeding gums,Painful gums,Swollen gums,Pain i...  \n",
       "98                                          Dizziness  \n",
       "99                               Lower abdominal pain  \n",
       "\n",
       "[100 rows x 4 columns]"
      ]
     },
     "execution_count": 36,
     "metadata": {},
     "output_type": "execute_result"
    }
   ],
   "source": [
    "rand_data(100)"
   ]
  },
  {
   "cell_type": "code",
   "execution_count": 37,
   "metadata": {
    "collapsed": true
   },
   "outputs": [],
   "source": [
    "final_fake_data = rand_data(100)"
   ]
  },
  {
   "cell_type": "code",
   "execution_count": 39,
   "metadata": {
    "collapsed": true
   },
   "outputs": [],
   "source": [
    "final_fake_data.to_csv(\"final_mock_data.csv\", index=False)"
   ]
  },
  {
   "cell_type": "code",
   "execution_count": null,
   "metadata": {
    "collapsed": true
   },
   "outputs": [],
   "source": []
  }
 ],
 "metadata": {
  "kernelspec": {
   "display_name": "Python 3",
   "language": "python",
   "name": "python3"
  },
  "language_info": {
   "codemirror_mode": {
    "name": "ipython",
    "version": 3
   },
   "file_extension": ".py",
   "mimetype": "text/x-python",
   "name": "python",
   "nbconvert_exporter": "python",
   "pygments_lexer": "ipython3",
   "version": "3.5.2"
  }
 },
 "nbformat": 4,
 "nbformat_minor": 2
}
